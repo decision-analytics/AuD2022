{
 "cells": [
  {
   "cell_type": "markdown",
   "metadata": {
    "slideshow": {
     "slide_type": "slide"
    }
   },
   "source": [
    "<img src=\"./img/logo_wiwi.png\" width=\"23%\" align=\"left\">\n",
    "\n",
    "<img src=\"./img/decision_analytics_logo.png\" width=\"17%\" align=\"right\">\n",
    "\n",
    "<br><br><br><br>\n",
    "\n",
    "## Algorithmen und Datenstrukturen\n",
    "Wintersemester 2022/23\n",
    "\n",
    "\n",
    "# Einführung und Organisatorisches\n",
    "\n",
    "\n",
    "<br><br><br>\n",
    "J-Prof. Dr. Michael Römer, Till Porrmann "
   ]
  },
  {
   "cell_type": "code",
   "execution_count": null,
   "metadata": {
    "slideshow": {
     "slide_type": "skip"
    }
   },
   "outputs": [],
   "source": [
    "import matplotlib.pyplot as plt\n",
    "import numpy as np"
   ]
  },
  {
   "cell_type": "markdown",
   "metadata": {
    "cell_style": "center",
    "slideshow": {
     "slide_type": "slide"
    }
   },
   "source": [
    "## 31-M30 Profilmodul Algorithmen und Datenstrukturen \n",
    "\n",
    "- Pflichtmodul im Profil \"Data Science\" für 1-Fach Bachelor Wiwi\n",
    "- Wahlflichtmodul für die übrigen Profile im 1-Fach Bachelor Wiwi\n",
    "- Wahlpflichtmodul / Profilmodul für Bachelor-Studierende mit Nebenfach Wiwi\n"
   ]
  },
  {
   "cell_type": "markdown",
   "metadata": {
    "slideshow": {
     "slide_type": "fragment"
    }
   },
   "source": [
    "bestehend aus:\n",
    "\n",
    "- **Vorlesung (Wintersemester)**, 4 LP, wöchentlich, Prüfungsleistung Klausur\n",
    "  - Dienstag 10:15 Uhr im Raum Y-1-201    \n",
    "- **Praktische Übung (Wintersemester)**,  2 LP, zwei-wöchentlich, unbenotete Studienleistung\n",
    "  - Montag 14:15 im Raum U2-107, erster Termin: 24.10.2022 \n",
    "- **A+D-Projekt** (Sommersemester), 4 LP, Prüfungsleistung Hausarbeit zum Projekt\n"
   ]
  },
  {
   "cell_type": "markdown",
   "metadata": {
    "slideshow": {
     "slide_type": "slide"
    }
   },
   "source": [
    "## Was machen wir heute?\n",
    "\n",
    "- Gegenseitige Vorstellung\n",
    "- Hinführung zum Thema des Kurses\n",
    "- Ziele, Vorgehen und Aufbau des Kurses"
   ]
  },
  {
   "cell_type": "markdown",
   "metadata": {
    "slideshow": {
     "slide_type": "slide"
    }
   },
   "source": [
    "## Wer sind die Dozenten? "
   ]
  },
  {
   "cell_type": "markdown",
   "metadata": {
    "cell_style": "center",
    "slideshow": {
     "slide_type": "-"
    }
   },
   "source": [
    "<div>\n",
    "<img src=\"./img/Michael.jpg\" width=\"20%\" align = \"right\"/>\n",
    "</div>\n",
    "\n",
    "### J.-Prof. Dr. Michael Römer\n",
    "\n",
    "\n",
    "(michael.roemer@uni-bielefeld.de)\n",
    "#### Persönliches:\n",
    "- Wirtschaftsinformatik Studium an der Universität Paderborn\n",
    "- Promotion an der Martin Luther Universität Halle-Wittenberg zu Airline Crew Planning and Scheduling\n",
    "- 2017-2019 Forschung in Toronto und Montreal\n",
    "- Seit Dezember 2019: Juniorprofessor für Decision Analytics an der Universität Bielefeld\n",
    "\n",
    "#### Dieser Kurs:\n",
    "- Modulverantwortlicher\n",
    "- Dozent der wöchentlichen Vorlesungen"
   ]
  },
  {
   "cell_type": "markdown",
   "metadata": {
    "slideshow": {
     "slide_type": "slide"
    }
   },
   "source": [
    "## Wer sind die Dozenten? "
   ]
  },
  {
   "cell_type": "markdown",
   "metadata": {
    "cell_style": "center",
    "slideshow": {
     "slide_type": "-"
    }
   },
   "source": [
    "<div>\n",
    "<img src=\"./img/Michael.jpg\" width=\"20%\" align = \"right\"/>\n",
    "</div>\n",
    "\n",
    "### J.-Prof. Dr. Michael Römer\n",
    "#### Forschungsschwerpunkte:\n",
    "- Mathematische Optimierung\n",
    "- Graphenbasierte Modellierung von Optimierungsproblemen\n",
    "- Decision Diagrams\n",
    "- Simulation\n",
    "- Machine Learning\n",
    "\n",
    "#### Anwendungsbereiche:\n",
    "- Logistik\n",
    "- Personaleinsatzplanung\n",
    "- Gesundheitswesen"
   ]
  },
  {
   "cell_type": "markdown",
   "metadata": {
    "slideshow": {
     "slide_type": "slide"
    }
   },
   "source": [
    "## Wer sind die Dozenten? "
   ]
  },
  {
   "cell_type": "markdown",
   "metadata": {
    "cell_style": "center",
    "slideshow": {
     "slide_type": "-"
    }
   },
   "source": [
    "<div>\n",
    "<img src=\"./img/Till.jpg\" width=\"20%\" align = \"right\"/>\n",
    "</div>\n",
    "\n",
    "### Till Porrmann\n",
    "(till.porrmann@uni-bielefeld.de)\n",
    "#### Persönliches:\n",
    "- Wirtschaftsinformatik Studium an der Martin Luther Universität Halle-Wittenberg\n",
    "- Seit August 2020: Doktorand an der Universität Bielefeld zu Entscheidungsfindung bei Resourcen- und Personaleinsatzplanung\n",
    "\n",
    "#### Dieser Kurs:\n",
    "- Dozent der 2-wöchentlichen Übungen\n",
    "- Ansprechpartner für Fragen rund um die Veranstaltung"
   ]
  },
  {
   "cell_type": "markdown",
   "metadata": {
    "slideshow": {
     "slide_type": "slide"
    }
   },
   "source": [
    "## Wer sind Sie?\n",
    "\n",
    "><div class=\"alert alert-block alert-info\">\n",
    "<b>In welchem Semester sind Sie?   </b></div>  \n",
    "><div class=\"alert alert-block alert-info\">\n",
    "<b>Hören Sie parallel den Kurs von Kevin Tierney? <br>   </b></div>  \n",
    "><div class=\"alert alert-block alert-info\">\n",
    "<b>Haben Sie Programmiererfahrung? </b></div>  \n",
    "><div class=\"alert alert-block alert-info\">\n",
    "<b>Haben Sie bereits einen Algorithmen-Kurs besucht? </b></div>   "
   ]
  },
  {
   "cell_type": "markdown",
   "metadata": {
    "slideshow": {
     "slide_type": "slide"
    }
   },
   "source": [
    "## Welche Vorkenntnisse erwarten wir?\n",
    "\n",
    "- Grundlegende mathematische Fähigkeiten\n",
    "- Auffrischungen (wie z.B. für Logarithmen) werden im Rahmen der Übung vorgenommen\n",
    "- Programmierkenntnisse sind hilfreich, aber (zu Beginn der Veranstaltung) nicht Voraussetzung\n",
    "- Empfohlen wird das gleichzeitige Lernen der Programmiersprache Python (passiert z.B. in der Veranstaltung von Prof. Tierney)\n",
    "- Eine kleine Einführung in Programmierung in Python erfolgt diesen Freitag in der Übung\n",
    "- Im LernRaum werden noch Links zu Ressourcen zum eigenständigen Lernen von Python eingestellt"
   ]
  },
  {
   "cell_type": "markdown",
   "metadata": {
    "slideshow": {
     "slide_type": "slide"
    }
   },
   "source": [
    "## Was wünschen wir uns von Ihnen?\n",
    "- Besuch von Vorlesung und Übung\n",
    "- Aktive Teilnahme: \n",
    "  - Fragen beantworten\n",
    "  - Mitdenken und -überlegen\n",
    "  - Nachfragen, falls Dinge unklar bleiben\n",
    "- Aktives Nachvollziehen der Inhalte, z.B. durch variieren des vorgegenben Codes\n",
    "- Bearbeitung der Übungszettel\n",
    "- Ehrliches und kritisches Feedback zum Kurs\n"
   ]
  },
  {
   "cell_type": "markdown",
   "metadata": {
    "slideshow": {
     "slide_type": "fragment"
    }
   },
   "source": [
    "..und dass Sie entdecken, dass Algorithmen Spaß machen können\n"
   ]
  },
  {
   "cell_type": "markdown",
   "metadata": {
    "heading_collapsed": true,
    "slideshow": {
     "slide_type": "slide"
    }
   },
   "source": [
    "## Was wünschen Sie sich von uns / von dem Kurs?"
   ]
  },
  {
   "cell_type": "markdown",
   "metadata": {
    "slideshow": {
     "slide_type": "slide"
    }
   },
   "source": [
    "# Das Thema des Kurses"
   ]
  },
  {
   "cell_type": "markdown",
   "metadata": {
    "slideshow": {
     "slide_type": "slide"
    }
   },
   "source": [
    "## Worum geht es in diesem Kurs?\n",
    "\n",
    "><div class=\"alert alert-block alert-info\"><b>\n",
    "> Welche Algorithmen kennen Sie und Was verstehen Sie unter einem Algorithmus?\n",
    "    </b></div>\n"
   ]
  },
  {
   "cell_type": "markdown",
   "metadata": {
    "slideshow": {
     "slide_type": "fragment"
    }
   },
   "source": [
    "## Beispiele für Algorithmen\n",
    "\n",
    "Algorithmen sind (fast) überall. Hier einige Beispiele:\n",
    "- der Euklidische Algorithmus zur Berechnung des größten gemeinsamen Teilers\n",
    "- kürzeste Wege-Algorithmen, die in Navigationsgeräten eingesetzt werden\n",
    "- der Simplex-Algorithmus der Linearen Programmierung\n",
    "- der PageRank-Algorithmus, der die Grundlage der Suchmaschine Google bildet\n",
    "- die Filter-Algorithmen, die die Feeds in Facebook, Twitter und Instagram steuern\n",
    "- AlphaGo, der Algorithmus, der erstmals stärker war als der beste menschliche Go-Spieler\n",
    "\n"
   ]
  },
  {
   "cell_type": "markdown",
   "metadata": {
    "slideshow": {
     "slide_type": "slide"
    }
   },
   "source": [
    "## Was verstehen wir hier unter einem Algorithmus?\n",
    "\n",
    "#### (Vereinfachte) Definition:\n",
    "\n",
    "Ein Algorithmus ist eine **Reihe von Schritten/Anweisungen**, um **deterministisch** eine **Aufgabe** auszuführen / zu lösen / zu bewältigen\n",
    "\n",
    "- **Reihe von Anweisungen**: eine Folge von wohldefinierten Schritten, die nacheinander ausgeführt werden sollen.\n",
    "- **deterministisch**: die gleiche Folge von Schritte muss jedes Mal zum gleichen Ergebnis kommen.\n",
    "- **Aufgabe**: ein vorher bekanntes Ziel soll erreicht werden.\n",
    "\n",
    "#### Beachte:\n",
    "\n",
    "Während die Definition hier sehr allgemein ist, gehen wir immer davon aus,\n",
    "- dass wir einen Algorithmus so genau und formal beschreiben,\n",
    "- dass er von einem Computer ausführbar \n",
    "- und für verschiedene Instanzen des gleichen Aufgabentyps anwendbar ist"
   ]
  },
  {
   "cell_type": "markdown",
   "metadata": {
    "slideshow": {
     "slide_type": "slide"
    }
   },
   "source": [
    "## Eine Denkaufgabe: Umfüllen von Wein\n",
    "\n",
    "- Sie haben einen 8-Liter-Behälter, der mit Wein gefüllt ist..\n",
    "- ...und zwei leere Behälter, die 3 und 5 Liter fassen\n",
    "\n",
    "Wie können Sie nur durch Umfüllen, d.h. ohne weitere Hilfsmittel, den Wein in zwei gleich große Mengen aufteilen?\n",
    "\n",
    "Überlegen Sie eine Lösung und besprechen Sie diese mit Ihrer Nachbarin / Ihrem Nachbarn!"
   ]
  },
  {
   "cell_type": "markdown",
   "metadata": {
    "slideshow": {
     "slide_type": "fragment"
    }
   },
   "source": [
    "#### Ergebnisse und weiterführende Fragen\n",
    "- Wie sieht Ihre Lösung aus?\n",
    "- Können Sie Ihr Vorgehen allgemein beschreiben, d.h. auch für andere Weinmengen und Behältergrößen?\n",
    "- Könnnen Sie ein Programm schreiben, das ein solch allgemeines Verfahren implementiert?"
   ]
  },
  {
   "cell_type": "markdown",
   "metadata": {
    "slideshow": {
     "slide_type": "slide"
    }
   },
   "source": [
    "## Worum geht es in diesem Kurs?\n",
    "\n",
    "><div class=\"alert alert-block alert-info\"><b>\n",
    "> Was verstehen Sie unter einem \"Algorithmus\" und welche Algorithmen kennen Sie?   \n",
    "    </b></div>\n",
    "><div class=\"alert alert-block alert-info\"><b>    \n",
    "    Was verstehen Sie unter einer \"Datenstruktur\" und welche Datenstrukturen kennen Sie?</b></div>"
   ]
  },
  {
   "cell_type": "markdown",
   "metadata": {
    "slideshow": {
     "slide_type": "slide"
    }
   },
   "source": [
    "## Was verstehen wir unter einer Datenstruktur?\n",
    "\n",
    "- Form der Speicherung/Ablage von Daten, die von Algorithmen genutzt werden\n",
    "\n",
    "- Beispiele:\n",
    "  - Arrays, Listen, Hashmaps, Queues \n",
    "  - ...werden Sie noch kennenlernen\n",
    "\n",
    "####  Eine Analogie:\n",
    "Wie legt man am besten Unterlagen (Versicherungen, Konten, etc.) ab, so dass \n",
    "- man Platz spart,\n",
    "- seine Unterlagen schnell findet und\n",
    "- das Ablegen schnell geht?"
   ]
  },
  {
   "cell_type": "markdown",
   "metadata": {
    "slideshow": {
     "slide_type": "fragment"
    }
   },
   "source": [
    "#### Datenstrukturen für Algorithmen\n",
    "Ähnliche Fragen stellt man sich bei der \"Ablage\" / von Daten, die von Algorithmen verwendet werden\n",
    "- die Effizienz eines Algorithmus hängt oft stark von den verwendeten Datenstrukturen ab"
   ]
  },
  {
   "cell_type": "markdown",
   "metadata": {
    "slideshow": {
     "slide_type": "slide"
    }
   },
   "source": [
    "## Was sind Kritierien für einen guten Algorithmus?\n",
    "\n",
    "Für viele Probleme gibt es verschiedene Algorithmen.\n",
    "\n",
    "Kriterien für **gute** Algorithmen sind:\n",
    "- Korrektheit (liefern Sie ein zulässiges / korrektes Ergebnis) und im Fall von Optimierungsaltorithmen Exaktheit (ergeben Sie erwiesenermaßen eine optimale Lösung?)\n",
    "- Speichereffizienz (effizienter Umgang mit Arbeitsspeicher)\n",
    "- Laufzeiteffizienz (Ergebnisse in kurzer Zeit)"
   ]
  },
  {
   "cell_type": "markdown",
   "metadata": {
    "slideshow": {
     "slide_type": "fragment"
    }
   },
   "source": [
    "**Beachte:**\n",
    "- Wenn man Algorithmen analysiert (wie später in dieser Vorlesung), wird die Lauftzeiteffizienz anhand der **Anzahl der Operationen** gemessen.\n",
    "- Die *tatsächliche Laufzeit* eines implementierten Algorithmus hängt allerdings von vielen anderen Faktoren ab wie\n",
    "    - Hardware\n",
    "    - Programmiersprache\n",
    "    - Effizienz der Implementierung / Programmierung"
   ]
  },
  {
   "cell_type": "markdown",
   "metadata": {
    "slideshow": {
     "slide_type": "slide"
    }
   },
   "source": [
    "## Spiel / Aufgabe: Zahlen raten\n",
    "\n",
    "Es spielen je zwei Personen\n",
    "- eine Person merkt sich eine Zahl zwischen 1 und 100\n",
    "- eine Person rät die Zahl, dabei dürfen Fragen gestellt werden, die mit \"ja\" oder \"nein\" beantwortet werden\n",
    "- zählen Sie die Anzahl der Fragen, die gestellt wurden, bis die richtige Zahl erraten wurde\n",
    "\n",
    "Jede*r Studierende sollte einmal der/die Ratende sein!\n"
   ]
  },
  {
   "cell_type": "markdown",
   "metadata": {
    "slideshow": {
     "slide_type": "fragment"
    }
   },
   "source": [
    "#### Ergebnisse und weiterführende Fragen\n",
    "- Wie viele Schritte haben Sie gebraucht?\n",
    "- Wie sind Sie vorgegangen?\n",
    "- Wie viele Schritte hätten Sie bei diesem Vorgehen im Worst Case benötigt?\n",
    "- Gibt es eine Formel, die beschreibt, wie viele Schritte Sie in Abhängkeit von der Anzahl an Zahlen benötigen würden?"
   ]
  },
  {
   "cell_type": "markdown",
   "metadata": {
    "slideshow": {
     "slide_type": "slide"
    }
   },
   "source": [
    "# Ziele, Vorgehen und Aufbau des Kurses"
   ]
  },
  {
   "cell_type": "markdown",
   "metadata": {
    "slideshow": {
     "slide_type": "slide"
    }
   },
   "source": [
    "## Ziele des Kurses\n",
    "\n",
    "Im Kurs lernen Sie,\n",
    "- algorithmisch zu denken \n",
    "- relevante Algorithmen zu analysieren (insbes. im Hinblick auf Laufzeiteffizienz) und zu entwickeln\n",
    "- welche grundlegenden Datenstrukturen es gibt, welche Eigenschaften diese haben, und wie sie eingesetzt werden\n",
    "- einfache Algorithmen in Python zu implementieren\n",
    "- Voraussetzungen, Anwendungsmöglichkeiten und Grenzen von Algorithmen einzuschätzen"
   ]
  },
  {
   "cell_type": "markdown",
   "metadata": {
    "slideshow": {
     "slide_type": "slide"
    }
   },
   "source": [
    "## Algorithmen und Datenstrukturen für Wirtschaftswissenschaftler?\n",
    "\n",
    "><div class=\"alert alert-block alert-info\"><b>\n",
    "> Welche Gründe sprechen dafür, dass Wiwis (mit Data Science-Profil) etwas über Algorithmen und Datenstrukturen lernen? </b></div>\n",
    "\n"
   ]
  },
  {
   "cell_type": "markdown",
   "metadata": {
    "slideshow": {
     "slide_type": "fragment"
    }
   },
   "source": [
    "- Vorbereitung für ein weiterführendes Data Science-Studium:\n",
    "  - Verständnis der grundlegenden Funktionsweise Algorithmen, die die Grundlagen von  Machine Learning und Optimierung bilden\n",
    "  -  Erwerb von Problemlösungs- und Implementierungstechniken, die im Master Data Science relevant werden \n",
    "\n",
    "- Kenntnisse im Bereich Algorithmen und Datenstrukturen helfen Ihnen,\n",
    "  - Funktionsweisen von IT-/ ML-/ KI-Systemen, mit denen Sie sicher zu tun haben werden, besser zu verstehen\n",
    "  - Denkweisen von Experten in diesen Bereichen besser zu verstehen, was die interdisziplinäre Kommunikation erleichtert"
   ]
  },
  {
   "cell_type": "markdown",
   "metadata": {
    "slideshow": {
     "slide_type": "slide"
    }
   },
   "source": [
    "## Wie gehen wir im Kurs vor?\n",
    "- klassische A&D-Kurse richten sich an Informatiker und sind eher formal orientiert und beweislastig\n",
    "- wir versuchen, das Thema für Nicht-Informatiker aufzubereiten und entprechend zu vermitteln:\n",
    "    - wir nutzen viele Beispiele und visuelle Darstellungen\n",
    "    - ausgehend von einfachen Erklärungen wird eine Intuition entwickelt\n",
    "    - die Veranstaltung ist in vielerlei Hinsicht interaktiv (Algorithmen werden gemeinsam \"entwickelt\", programmiert und ausprobiert)\n",
    "- Empfohlen wird gleichzeitiger Besuch von *Programming for Data Analytics* bei Prof. Tierney\n",
    "- (kritisches) Feedback ist erwünscht:\n",
    "    * dies ist der zweite Durchlauf der Vorlesung für uns\n",
    "    * auf Basis von Feedback können wir den Kurs weiter anpassen"
   ]
  },
  {
   "cell_type": "markdown",
   "metadata": {
    "slideshow": {
     "slide_type": "slide"
    }
   },
   "source": [
    "## Folien auf Basis von Juypter Notebooks\n",
    "\n",
    "- Die Basis dieser Folien sind so genannte Jupyter Notebooks\n",
    "- diese können nicht nur Text, sondern auch ausführbaren Code enthalten:\n"
   ]
  },
  {
   "cell_type": "code",
   "execution_count": 29,
   "metadata": {
    "slideshow": {
     "slide_type": "-"
    }
   },
   "outputs": [
    {
     "data": {
      "text/plain": [
       "6"
      ]
     },
     "execution_count": 29,
     "metadata": {},
     "output_type": "execute_result"
    }
   ],
   "source": [
    "2+4"
   ]
  },
  {
   "cell_type": "code",
   "execution_count": 31,
   "metadata": {
    "scrolled": true,
    "slideshow": {
     "slide_type": "fragment"
    }
   },
   "outputs": [
    {
     "data": {
      "image/png": "[encoded data removed]",
      "text/plain": [
       "<Figure size 432x288 with 1 Axes>"
      ]
     },
     "metadata": {
      "needs_background": "light"
     },
     "output_type": "display_data"
    }
   ],
   "source": [
    "a=np.arange(10,step=0.1)\n",
    "b=np.sin(a)\n",
    "plt.plot(a,b);"
   ]
  },
  {
   "cell_type": "markdown",
   "metadata": {
    "slideshow": {
     "slide_type": "fragment"
    }
   },
   "source": [
    ".. Sie können die Inhalte aktiv mitverfolgen und auch direkt mit dem Code experimentieren \n",
    "- wir können auch in der Vorlesung kleinere Übungen am Rechner machen"
   ]
  },
  {
   "cell_type": "markdown",
   "metadata": {
    "slideshow": {
     "slide_type": "slide"
    }
   },
   "source": [
    "## LernraumPlus\n",
    "\n",
    "Im LernraumPlus gibt es\n",
    "- aktuelle Informationen zum Kurs\n",
    "- die Jupyter-Notebooks / Links zu Online-Versionen der Notebooks\n",
    "  - probieren Sie es einmal aus!\n",
    "- Material für die Übungen (eigener Lernraum)\n",
    "- Funktionen zum Hochladen der Übungszettel"
   ]
  },
  {
   "cell_type": "markdown",
   "metadata": {
    "slideshow": {
     "slide_type": "slide"
    }
   },
   "source": [
    "## Lehrformat\n",
    "- wöchentliche Vorlesung Dienstag 10:15 Uhr im Raum Y-1-201  **in Präsenz**:\n",
    "    * Vermittlung der Inhalte\n",
    "    * kleinere interaktive Elemente\n",
    "- zwei-Wöchentliche Übung Montag 14:15 im Raum U2-107, erster Termin: 24.10.2022  **in Präsenz**:\n",
    "    * Vertiefung von Gelerntem\n",
    "    * praktische Anwendung\n",
    "- Übungszettel:\n",
    "    * Alle zwei Wochen, Abgabe immer Sonntag nach der Übung\n",
    "    * Studienleistung (2LP)"
   ]
  },
  {
   "cell_type": "markdown",
   "metadata": {
    "slideshow": {
     "slide_type": "slide"
    }
   },
   "source": [
    "## Hilfreiche Literatur\n",
    "\n",
    "- ein wesentlischer Teil des Kurses basiert auf dem Buch **Grokking Algorithms** von Aditya Y. Bharagava\n",
    "- die deutsche Übersetzung **Algorithmen kapieren** über die Uni Bielefeld frei verfügbar\n",
    "\n",
    "https://content-select.com/media/moz_viewer/5c858648-6fb0-498b-8e0c-6037b0dd2d03/language:de\n",
    "\n",
    "- es gibt leichte Abweichungen / Ergänzungen zum Buch gegen Ende des Kurses"
   ]
  },
  {
   "cell_type": "markdown",
   "metadata": {
    "slideshow": {
     "slide_type": "slide"
    }
   },
   "source": [
    "## Inhalte (vorläufig)\n",
    "\n",
    "\n",
    "    0. Organisatorisches    \n",
    "#### 1. Block: Erste Schritte\n",
    "    1. Einführung in Algorithmen (mit Binary Search)\n",
    "    2. Einführung in Datenstrukturen (mit Selection Sort)\n",
    " \n",
    "#### 2. Block: Wichtige Konzepte und Strukturen\n",
    "    3. Rekursion\n",
    "    4. Teile-und-Herrsche (mit Quicksort)\n",
    "    5. Hash-Tabellen (Dictionaries)\n",
    "    \n",
    "#### 3. Block: Suche und Wege in Graphen\n",
    "    6. Breitensuche\n",
    "    7. Kürzeste Wege: Dijkstra-Algorithmus\n",
    "    8. Effiziente kürzeste Wege in gerichteten Graphen\n",
    "\n",
    "    \n",
    "#### 4. Block: Greedy-Verfahren und Dynamische Programmierung\n",
    "    9. Greedy-Algorithmen\n",
    "    10. Dynamische Programmierung"
   ]
  },
  {
   "cell_type": "markdown",
   "metadata": {
    "slideshow": {
     "slide_type": "slide"
    }
   },
   "source": [
    "## Fazit und Ausblick\n",
    "\n",
    "Wir haben uns, das Thema und die Ziele / den Aufbau des Kurses kennengelernt.\n",
    "\n",
    "- in der ersten **Übung am kommenden Montag** wird es eine kleine Einführung in die Programmierung mit Python geben\n",
    "\n",
    "- in der **nächsten Vorlesung** werden wir uns mit ersten Algorithmen und deren Anaylse beschäftigen\n"
   ]
  }
 ],
 "metadata": {
  "celltoolbar": "Slideshow",
  "kernelspec": {
   "display_name": "Python [conda env:audproj]",
   "language": "python",
   "name": "conda-env-audproj-py"
  },
  "language_info": {
   "codemirror_mode": {
    "name": "ipython",
    "version": 3
   },
   "file_extension": ".py",
   "mimetype": "text/x-python",
   "name": "python",
   "nbconvert_exporter": "python",
   "pygments_lexer": "ipython3",
   "version": "3.10.2"
  },
  "toc": {
   "base_numbering": 1,
   "nav_menu": {},
   "number_sections": false,
   "sideBar": true,
   "skip_h1_title": false,
   "title_cell": "Table of Contents",
   "title_sidebar": "Contents",
   "toc_cell": false,
   "toc_position": {},
   "toc_section_display": true,
   "toc_window_display": false
  },
  "varInspector": {
   "cols": {
    "lenName": 16,
    "lenType": 16,
    "lenVar": 40
   },
   "kernels_config": {
    "python": {
     "delete_cmd_postfix": "",
     "delete_cmd_prefix": "del ",
     "library": "var_list.py",
     "varRefreshCmd": "print(var_dic_list())"
    },
    "r": {
     "delete_cmd_postfix": ") ",
     "delete_cmd_prefix": "rm(",
     "library": "var_list.r",
     "varRefreshCmd": "cat(var_dic_list()) "
    }
   },
   "types_to_exclude": [
    "module",
    "function",
    "builtin_function_or_method",
    "instance",
    "_Feature"
   ],
   "window_display": false
  }
 },
 "nbformat": 4,
 "nbformat_minor": 4
}
