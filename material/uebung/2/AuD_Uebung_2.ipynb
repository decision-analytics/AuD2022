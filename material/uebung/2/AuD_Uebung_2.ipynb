{
 "cells": [
  {
   "cell_type": "markdown",
   "metadata": {
    "slideshow": {
     "slide_type": "slide"
    }
   },
   "source": [
    "<img src=\"./img/logo_wiwi.png\" width=\"23%\" align=\"left\">\n",
    "<img src=\"./img/decision_analytics_logo.png\" width=\"17%\" align=\"right\">\n",
    "\n",
    "<br><br><br><br><br><br><br><br><br><br>\n",
    "\n",
    "\n",
    "## Algorithmen und Datenstrukturen\n",
    "Wintersemester 2022/23\n",
    "\n",
    "\n",
    "# Übung 2: Algorithmen in Python\n",
    "\n",
    "\n",
    "<br><br><br>\n",
    "J-Prof. Dr. Michael Römer, Till Porrmann "
   ]
  },
  {
   "cell_type": "markdown",
   "metadata": {
    "slideshow": {
     "slide_type": "slide"
    }
   },
   "source": [
    "# Überblick\n",
    "\n",
    "0. Infos Übungszettel\n",
    "1. Wiederholung Inhalte Vorlesung\n",
    "2. Logarithmen\n",
    "3. Weitere Python-Programmierung"
   ]
  },
  {
   "cell_type": "markdown",
   "metadata": {
    "slideshow": {
     "slide_type": "slide"
    }
   },
   "source": [
    "# 0. Infos Übungszettel"
   ]
  },
  {
   "cell_type": "markdown",
   "metadata": {
    "slideshow": {
     "slide_type": "slide"
    }
   },
   "source": [
    "# Infos Übungszettel"
   ]
  },
  {
   "cell_type": "markdown",
   "metadata": {
    "slideshow": {
     "slide_type": "fragment"
    }
   },
   "source": [
    "Bei jedem Übungszettel können 100 Punkte erreicht werden. Am Ende des Semesters müssen 50\\% der Punkte erreicht worden sein, um die Studienleistung zu bestehen. Für je 10\\% mehr erhaltet ihr einen Bonuspunkt für die Klausur."
   ]
  },
  {
   "cell_type": "markdown",
   "metadata": {
    "slideshow": {
     "slide_type": "fragment"
    }
   },
   "source": [
    "Aufgaben gibt es als Notebook. Ihr könnt direkt darin die Lösungen erarbeiten."
   ]
  },
  {
   "cell_type": "markdown",
   "metadata": {
    "slideshow": {
     "slide_type": "slide"
    }
   },
   "source": [
    "# Infos Übungszettel"
   ]
  },
  {
   "cell_type": "markdown",
   "metadata": {
    "slideshow": {
     "slide_type": "fragment"
    }
   },
   "source": [
    "Auf manchen Zetteln wird es Bonus-Aufgaben geben. Diese sind nicht nötig um 100% zu erreichen, können aber genutzt werden um Fehler an anderen Stellen auszugleichen. Es gibt kleine, mittlere und große Bonusaufgaben (jeweils gekennzeichnet)."
   ]
  },
  {
   "cell_type": "markdown",
   "metadata": {
    "slideshow": {
     "slide_type": "fragment"
    }
   },
   "source": [
    "Manchmal wird es Auswahlaufgaben geben, von denen nicht alle bearbeitet werden müssen."
   ]
  },
  {
   "cell_type": "markdown",
   "metadata": {
    "slideshow": {
     "slide_type": "fragment"
    }
   },
   "source": [
    "Wenn ihr nicht wisst, wie ihr etwas lösen könnt, fragt nach: \n",
    "- Google \n",
    "- Kommilitonen\n",
    "- Till"
   ]
  },
  {
   "cell_type": "markdown",
   "metadata": {
    "slideshow": {
     "slide_type": "slide"
    }
   },
   "source": [
    "# 1. Wiederholung Inhalte Vorlesung\n",
    "\n",
    "- Überblick\n",
    "- Codebeispiele"
   ]
  },
  {
   "cell_type": "markdown",
   "metadata": {
    "slideshow": {
     "slide_type": "slide"
    }
   },
   "source": [
    "# Wiederholung Inhalte Vorlesung\n",
    "## Überblick\n",
    "\n",
    "#### Was ist ein Algorithmus?\n",
    "\n",
    "<div class=\"alert alert-block alert-success\">\n",
    "    \n",
    "#### (Vereinfachte) Definition:\n",
    "Ein Algorithmus ist eine **Reihe von Schritten/Anweisungen**, um **deterministisch** eine **Aufgabe** auszuführen / zu lösen / zu bewältigen\n",
    "\n",
    "- **Reihe von Anweisungen**: eine Folge von wohldefinierten Schritten, die nacheinander ausgeführt werden sollen.\n",
    "- **deterministisch**: die gleiche Folge von Schritte muss jedes Mal zum gleichen Ergebnis kommen.\n",
    "- **Aufgabe**: ein vorher bekanntes Ziel soll erreicht werden.\n",
    "</div>\n",
    "\n",
    "#### Algorithmisches Denken: \n",
    "- Schritt für Schritt voran kommen\n",
    "- Anweisungen genau beschreiben können\n",
    "- Erreichung des Ziels vor Augen haben\n"
   ]
  },
  {
   "cell_type": "markdown",
   "metadata": {
    "slideshow": {
     "slide_type": "slide"
    }
   },
   "source": [
    "# Wiederholung Inhalte Vorlesung\n",
    "## Überblick\n",
    "\n",
    "#### Suchprobleme\n",
    "\n",
    "<div class=\"alert alert-block alert-success\">\n",
    "\n",
    "### Gegeben:\n",
    "- einen zu suchenden *Wert* $x$ (z.B. eine Zahl, ein Buchstabe, ein Name)\n",
    "- eine Auflistung von vielen Werten (und ggf. zugehörigen Informationen)\n",
    "\n",
    "### Gesucht:\n",
    "- die Position (und damit ggf. die Möglichkeit, weitere Informationen abzurufen) und\n",
    "- damit verbunden die Information, ob der gesuchte Wert vorhanden ist\n",
    "\n",
    "</div>\n",
    "\n"
   ]
  },
  {
   "cell_type": "markdown",
   "metadata": {
    "slideshow": {
     "slide_type": "slide"
    }
   },
   "source": [
    "# Wiederholung Inhalte Vorlesung\n",
    "## Überblick\n",
    "\n",
    "#### Linear Search vs Binary Search\n",
    "\n",
    "\n",
    "><div class=\"alert alert-block alert-info\">\n",
    "<b>Welche Eigenschaften/ Vor- und Nachteile haben die beiden Verfahren?</b></div>"
   ]
  },
  {
   "cell_type": "markdown",
   "metadata": {
    "slideshow": {
     "slide_type": "-"
    }
   },
   "source": [
    "|        |Linear Search|Binary Search|\n",
    "|:----:|:----:|:----:|\n",
    "| Schwierigkeit |  sehr einfach   |   eher einfach  |\n",
    "| Bedingungen   |   keine  |   Sortierung  |\n",
    "| Laufzeitkomplexität   |  linear   |  logarithmisch   |"
   ]
  },
  {
   "cell_type": "markdown",
   "metadata": {
    "slideshow": {
     "slide_type": "slide"
    }
   },
   "source": [
    "# Wiederholung Inhalte Vorlesung\n",
    "## Codebeispiele"
   ]
  },
  {
   "cell_type": "code",
   "execution_count": null,
   "metadata": {
    "slideshow": {
     "slide_type": "-"
    }
   },
   "outputs": [],
   "source": [
    "liste = [1, 4, 6, 8, 11, 13, 16]\n",
    "wert = 13"
   ]
  },
  {
   "cell_type": "code",
   "execution_count": null,
   "metadata": {
    "slideshow": {
     "slide_type": "-"
    }
   },
   "outputs": [],
   "source": [
    "for index in range(len(liste)):\n",
    "    if wert == liste[index]:\n",
    "        print(\"Wert wurde gefunden an Index \", index)\n",
    "        break"
   ]
  },
  {
   "cell_type": "markdown",
   "metadata": {
    "slideshow": {
     "slide_type": "-"
    }
   },
   "source": [
    "><div class=\"alert alert-block alert-info\">\n",
    "<b>Wie viele von euch wissen, wie range(len(liste)) funktioniert?</b></div>"
   ]
  },
  {
   "cell_type": "markdown",
   "metadata": {
    "slideshow": {
     "slide_type": "slide"
    }
   },
   "source": [
    "# Wiederholung Inhalte Vorlesung\n",
    "## Codebeispiele"
   ]
  },
  {
   "cell_type": "code",
   "execution_count": null,
   "metadata": {},
   "outputs": [],
   "source": [
    "def linear_search(liste, wert):\n",
    "    for index in range(len(liste)):\n",
    "        if liste[index] == wert:\n",
    "            print(\"Wert\", wert, \"wurde gefunden an Index\", index)\n",
    "            return index\n",
    "    print(\"Wert\", wert, \"wurde nicht gefunden!\")\n",
    "    return None"
   ]
  },
  {
   "cell_type": "code",
   "execution_count": null,
   "metadata": {},
   "outputs": [],
   "source": [
    "liste = [1, 4, 6, 8, 11, 13, 16]\n",
    "wert = 13\n",
    "index_wert = linear_search(liste, wert)\n",
    "\n",
    "print(index_wert)"
   ]
  },
  {
   "cell_type": "markdown",
   "metadata": {
    "slideshow": {
     "slide_type": "slide"
    }
   },
   "source": [
    "# 2. Logarithmen"
   ]
  },
  {
   "cell_type": "markdown",
   "metadata": {
    "slideshow": {
     "slide_type": "slide"
    }
   },
   "source": [
    "# Logarithmen"
   ]
  },
  {
   "cell_type": "markdown",
   "metadata": {
    "slideshow": {
     "slide_type": "-"
    }
   },
   "source": [
    "- \"Umkehr\" der Exponentialfunktion\n",
    "- Exponentielles Wachstum $\\rightarrow$ Sehr schnell\n",
    "- Logarithmisches Wachstum $\\rightarrow$ Sehr langsam\n",
    "\n",
    "<img src=\"./img/00_Logs.png\" width=\"40%\" align=\"middle\">"
   ]
  },
  {
   "cell_type": "markdown",
   "metadata": {
    "slideshow": {
     "slide_type": "slide"
    }
   },
   "source": [
    "https://www.khanacademy.org/math/algebra2/x2ec2f6f830c9fb89:logs/x2ec2f6f830c9fb89:log-intro/v/logarithms"
   ]
  },
  {
   "cell_type": "markdown",
   "metadata": {
    "slideshow": {
     "slide_type": "slide"
    }
   },
   "source": [
    "## Logarithmen in Python"
   ]
  },
  {
   "cell_type": "markdown",
   "metadata": {},
   "source": [
    "- Potenzieren mit ```x**y```"
   ]
  },
  {
   "cell_type": "markdown",
   "metadata": {},
   "source": [
    "><div class=\"alert alert-block alert-info\">\n",
    "<b>Wie kann man Logarithmen in Python implementieren?</b></div>"
   ]
  },
  {
   "cell_type": "code",
   "execution_count": 13,
   "metadata": {},
   "outputs": [
    {
     "data": {
      "text/plain": [
       "2.0"
      ]
     },
     "execution_count": 13,
     "metadata": {},
     "output_type": "execute_result"
    }
   ],
   "source": [
    "# Lösung:\n",
    "import math\n",
    "math.log(100,10)"
   ]
  },
  {
   "cell_type": "code",
   "execution_count": 12,
   "metadata": {},
   "outputs": [],
   "source": [
    "# Alternative 1:\n",
    "import math as mt\n",
    "mt.log(100,10)"
   ]
  },
  {
   "cell_type": "code",
   "execution_count": null,
   "metadata": {},
   "outputs": [],
   "source": [
    "# Alternative 2:\n",
    "from math import log\n",
    "log(100,10)"
   ]
  },
  {
   "cell_type": "markdown",
   "metadata": {
    "slideshow": {
     "slide_type": "slide"
    }
   },
   "source": [
    "# 3. Weitere Python-Programmierung\n",
    "\n",
    "- Listen und Schleifen\n",
    "- Funktionen\n",
    "- Weiteres\n",
    "- Binäre Suche"
   ]
  },
  {
   "cell_type": "markdown",
   "metadata": {
    "slideshow": {
     "slide_type": "slide"
    }
   },
   "source": [
    "# Weitere Python-Programmierung\n",
    "\n",
    "## Listen und Schleifen\n",
    "\n"
   ]
  },
  {
   "cell_type": "markdown",
   "metadata": {
    "slideshow": {
     "slide_type": "-"
    }
   },
   "source": [
    "### range() / len()"
   ]
  },
  {
   "cell_type": "code",
   "execution_count": 17,
   "metadata": {
    "slideshow": {
     "slide_type": "-"
    }
   },
   "outputs": [],
   "source": [
    "zahlen1 = [0,1,2,3,4,5,6,7,8,9]\n",
    "Städte = ['Bielefeld','New York','Cambridge','Hamburg','Rom','Boston','Herford','Denver','Paderborn','Frankfurt']"
   ]
  },
  {
   "cell_type": "markdown",
   "metadata": {},
   "source": [
    "- verschiedene Startwerte, Endwerte und Schrittweiten möglich\n",
    "- Genaueres findet ihr [hier](https://www.w3schools.com/python/ref_func_range.asp)"
   ]
  },
  {
   "cell_type": "code",
   "execution_count": 20,
   "metadata": {},
   "outputs": [
    {
     "name": "stdout",
     "output_type": "stream",
     "text": [
      "2\n",
      "4\n",
      "6\n",
      "8\n"
     ]
    }
   ],
   "source": [
    "for i in range(2,10,2):\n",
    "    print(i)"
   ]
  },
  {
   "cell_type": "markdown",
   "metadata": {
    "slideshow": {
     "slide_type": "slide"
    }
   },
   "source": [
    "# Weitere Python-Programmierung\n",
    "\n",
    "## Listen und Schleifen\n",
    "\n"
   ]
  },
  {
   "cell_type": "markdown",
   "metadata": {
    "slideshow": {
     "slide_type": "-"
    }
   },
   "source": [
    "### Slicing"
   ]
  },
  {
   "cell_type": "code",
   "execution_count": 22,
   "metadata": {
    "slideshow": {
     "slide_type": "-"
    }
   },
   "outputs": [],
   "source": [
    "Städte = ['Bielefeld','New York','Cambridge','Hamburg','Rom','Boston','Herford','Denver','Paderborn','Frankfurt']"
   ]
  },
  {
   "cell_type": "markdown",
   "metadata": {},
   "source": [
    "- Für Teile der Liste\n",
    "- Ähnliche Möglichkeiten wie bei ```range()```"
   ]
  },
  {
   "cell_type": "code",
   "execution_count": 28,
   "metadata": {},
   "outputs": [
    {
     "data": {
      "text/plain": [
       "['Cambridge', 'Denver']"
      ]
     },
     "execution_count": 28,
     "metadata": {},
     "output_type": "execute_result"
    }
   ],
   "source": [
    "Städte[2:10:5]"
   ]
  },
  {
   "cell_type": "markdown",
   "metadata": {
    "slideshow": {
     "slide_type": "slide"
    }
   },
   "source": [
    "# Weitere Python-Programmierung\n",
    "\n",
    "## Listen und Schleifen\n",
    "\n"
   ]
  },
  {
   "cell_type": "markdown",
   "metadata": {
    "slideshow": {
     "slide_type": "-"
    }
   },
   "source": [
    "### Verschachtelte Schleifen"
   ]
  },
  {
   "cell_type": "code",
   "execution_count": null,
   "metadata": {
    "slideshow": {
     "slide_type": "-"
    }
   },
   "outputs": [],
   "source": [
    "*\n",
    "**\n",
    "***\n",
    "****\n",
    "*\n",
    "**\n",
    "***\n",
    "****\n",
    "*\n",
    "**\n",
    "***\n",
    "****"
   ]
  },
  {
   "cell_type": "markdown",
   "metadata": {},
   "source": [
    "><div class=\"alert alert-block alert-info\">\n",
    "<b>Probiert zwei Schleifen ineinander zu verschachteln, sodass dieser Output entsteht.\n",
    "    \n",
    "Tipp: Nutzt range()\n",
    "</b></div>"
   ]
  },
  {
   "cell_type": "markdown",
   "metadata": {
    "slideshow": {
     "slide_type": "slide"
    }
   },
   "source": [
    "# Weitere Python-Programmierung\n",
    "\n",
    "## Listen und Schleifen\n",
    "\n"
   ]
  },
  {
   "cell_type": "markdown",
   "metadata": {
    "slideshow": {
     "slide_type": "-"
    }
   },
   "source": [
    "### Verschachtelte Schleifen"
   ]
  },
  {
   "cell_type": "code",
   "execution_count": 33,
   "metadata": {},
   "outputs": [
    {
     "name": "stdout",
     "output_type": "stream",
     "text": [
      "*\n",
      "**\n",
      "***\n",
      "****\n",
      "*\n",
      "**\n",
      "***\n",
      "****\n",
      "*\n",
      "**\n",
      "***\n",
      "****\n"
     ]
    }
   ],
   "source": [
    "#Lösung:\n",
    "\n",
    "for aussen in range(3):\n",
    "    for innen in range(1,5):\n",
    "        print('*' * innen)"
   ]
  },
  {
   "cell_type": "markdown",
   "metadata": {
    "slideshow": {
     "slide_type": "slide"
    }
   },
   "source": [
    "# Weitere Python-Programmierung\n",
    "\n",
    "## Funktionen"
   ]
  },
  {
   "cell_type": "markdown",
   "metadata": {
    "slideshow": {
     "slide_type": "slide"
    }
   },
   "source": [
    "### Funktionen\n",
    "\n",
    "- Teil des Codes, der immer wieder benutzt werden kann\n",
    "- Kann einen *Wiedergabewert* haben\n",
    "- Nutzung von Funktionen mit: ```FUNKTIONSNAME(*Argumente*)```\n",
    "- Funktionen werden vorher definiert im Stil von \n",
    "\n",
    "```\n",
    "def FUNKTIONSNAME(*Argumente*):\n",
    "    CODE DER FUNKTION\n",
    "RESTLICHER CODE\n",
    "```"
   ]
  },
  {
   "cell_type": "markdown",
   "metadata": {
    "slideshow": {
     "slide_type": "slide"
    }
   },
   "source": [
    "# Weitere Python-Programmierung\n",
    "\n",
    "## Funktionen"
   ]
  },
  {
   "cell_type": "code",
   "execution_count": null,
   "metadata": {
    "slideshow": {
     "slide_type": "-"
    }
   },
   "outputs": [],
   "source": [
    "zahlen1 = [0,1,2,3,4,5,6,7,8,9]\n",
    "Städte = ['Bielefeld','New York','Cambridge','Hamburg','Rom','Boston','Herford','Denver','Paderborn','Frankfurt']"
   ]
  },
  {
   "cell_type": "code",
   "execution_count": 44,
   "metadata": {},
   "outputs": [
    {
     "name": "stdout",
     "output_type": "stream",
     "text": [
      "Länge der Liste: 10\n",
      "Zahl: 0\n",
      "Zahl: 1\n",
      "Zahl: 2\n",
      "Zahl: 3\n",
      "Zahl: 4\n",
      "Zahl: 5\n",
      "Zahl: 6\n",
      "Zahl: 7\n",
      "Zahl: 8\n",
      "Zahl: 9\n"
     ]
    }
   ],
   "source": [
    "print('Länge der Liste:',len(zahlen1))\n",
    "for zahl in zahlen1:\n",
    "    print('Zahl:',zahl)"
   ]
  },
  {
   "cell_type": "code",
   "execution_count": 36,
   "metadata": {},
   "outputs": [
    {
     "name": "stdout",
     "output_type": "stream",
     "text": [
      "Länge der Liste: 10\n",
      "Stadt: Bielefeld\n",
      "Stadt: New York\n",
      "Stadt: Cambridge\n",
      "Stadt: Hamburg\n",
      "Stadt: Rom\n",
      "Stadt: Boston\n",
      "Stadt: Herford\n",
      "Stadt: Denver\n",
      "Stadt: Paderborn\n",
      "Stadt: Frankfurt\n"
     ]
    }
   ],
   "source": [
    "print('Länge der Liste:',len(Städte))\n",
    "for stadt in Städte:\n",
    "    print('Stadt:',stadt)"
   ]
  },
  {
   "cell_type": "markdown",
   "metadata": {
    "slideshow": {
     "slide_type": "slide"
    }
   },
   "source": [
    "# Weitere Python-Programmierung\n",
    "\n",
    "## Funktionen"
   ]
  },
  {
   "cell_type": "code",
   "execution_count": null,
   "metadata": {
    "slideshow": {
     "slide_type": "-"
    }
   },
   "outputs": [],
   "source": [
    "zahlen1 = [0,1,2,3,4,5,6,7,8,9]\n",
    "Städte = ['Bielefeld','New York','Cambridge','Hamburg','Rom','Boston','Herford','Denver','Paderborn','Frankfurt']"
   ]
  },
  {
   "cell_type": "markdown",
   "metadata": {
    "slideshow": {
     "slide_type": "-"
    }
   },
   "source": [
    "><div class=\"alert alert-block alert-info\">\n",
    "<b>Schreibt eine Funktion, die den gleichen Effekt wie die oben genutzten Schleifen hat. \n",
    "</b></div>"
   ]
  },
  {
   "cell_type": "code",
   "execution_count": 41,
   "metadata": {},
   "outputs": [],
   "source": [
    "# Lösung:\n",
    "def list_ausgabe(liste):\n",
    "    print(len(liste))\n",
    "    for element in liste:\n",
    "        print('Element:',element)"
   ]
  },
  {
   "cell_type": "code",
   "execution_count": null,
   "metadata": {},
   "outputs": [],
   "source": [
    "list_ausgabe(zahlen1)"
   ]
  },
  {
   "cell_type": "code",
   "execution_count": null,
   "metadata": {},
   "outputs": [],
   "source": [
    "list_ausgabe(Städte)"
   ]
  },
  {
   "cell_type": "code",
   "execution_count": null,
   "metadata": {},
   "outputs": [],
   "source": [
    "list_ausgabe([2,6,9,2])"
   ]
  },
  {
   "cell_type": "markdown",
   "metadata": {
    "slideshow": {
     "slide_type": "slide"
    }
   },
   "source": [
    "# Weitere Python-Programmierung\n",
    "\n",
    "## Weiteres"
   ]
  },
  {
   "cell_type": "markdown",
   "metadata": {},
   "source": [
    "### ```enumerate``` "
   ]
  },
  {
   "cell_type": "code",
   "execution_count": 46,
   "metadata": {
    "slideshow": {
     "slide_type": "-"
    }
   },
   "outputs": [],
   "source": [
    "themen = [\"Orga\",\"Algorithmen\",\"Datenstrukturen\",\"Rekursion\",\"Hash-maps\"]"
   ]
  },
  {
   "cell_type": "code",
   "execution_count": 47,
   "metadata": {},
   "outputs": [
    {
     "name": "stdout",
     "output_type": "stream",
     "text": [
      "Thema 0 ist: Orga\n",
      "Thema 1 ist: Algorithmen\n",
      "Thema 2 ist: Datenstrukturen\n",
      "Thema 3 ist: Rekursion\n",
      "Thema 4 ist: Hash-maps\n"
     ]
    }
   ],
   "source": [
    "# Gibt Index und Inhalt von Listenelementen \n",
    "for index,thema in enumerate(themen):\n",
    "    print(\"Thema\",index,\"ist:\",thema)"
   ]
  },
  {
   "cell_type": "markdown",
   "metadata": {},
   "source": [
    "### ```+=``` "
   ]
  },
  {
   "cell_type": "code",
   "execution_count": null,
   "metadata": {
    "slideshow": {
     "slide_type": "-"
    }
   },
   "outputs": [],
   "source": [
    "zahl = 5\n",
    "zahl += 1\n",
    "\n",
    "print(zahl)"
   ]
  },
  {
   "cell_type": "markdown",
   "metadata": {
    "slideshow": {
     "slide_type": "slide"
    }
   },
   "source": [
    "# Weitere Python-Programmierung\n",
    "\n",
    "## Weiteres"
   ]
  },
  {
   "cell_type": "markdown",
   "metadata": {},
   "source": [
    "### ```while```-Schleifen"
   ]
  },
  {
   "cell_type": "markdown",
   "metadata": {},
   "source": [
    "- Alternative zur for-Schleife\n",
    "- Wird solange ausgeführt, wie Bedingung gilt"
   ]
  },
  {
   "cell_type": "code",
   "execution_count": 48,
   "metadata": {},
   "outputs": [
    {
     "name": "stdout",
     "output_type": "stream",
     "text": [
      "27\n"
     ]
    }
   ],
   "source": [
    "zahlen_liste = [3, 5, 1, 2, 8, 6, 2]\n",
    "index = 0\n",
    "summe = 0\n",
    "\n",
    "while index < len(zahlen_liste):\n",
    "    summe += zahlen_liste[index]\n",
    "    index += 1\n",
    "    \n",
    "print(summe)"
   ]
  },
  {
   "cell_type": "markdown",
   "metadata": {
    "slideshow": {
     "slide_type": "slide"
    }
   },
   "source": [
    "# Weitere Python-Programmierung\n",
    "\n",
    "## Weiteres"
   ]
  },
  {
   "cell_type": "markdown",
   "metadata": {},
   "source": [
    "### ```while```-Schleifen\n",
    "\n",
    "><div class=\"alert alert-block alert-info\">\n",
    "<b>Schreibe eine Funktion die überprüft, wie oft eine Zahl ohne Rest durch 2 geteilt werden kann. Nutze dafür eine while-Schleife.\n",
    "</b></div>"
   ]
  },
  {
   "cell_type": "code",
   "execution_count": 52,
   "metadata": {},
   "outputs": [],
   "source": [
    "def teilbarkeit_2(zahl):\n",
    "    count = 0\n",
    "    while zahl%2 == 0:\n",
    "        zahl = zahl / 2\n",
    "        count += 1\n",
    "    return count"
   ]
  },
  {
   "cell_type": "code",
   "execution_count": 56,
   "metadata": {},
   "outputs": [
    {
     "data": {
      "text/plain": [
       "2"
      ]
     },
     "execution_count": 56,
     "metadata": {},
     "output_type": "execute_result"
    }
   ],
   "source": [
    "my_zahl = 28\n",
    "\n",
    "teilbarkeit_2(my_zahl)"
   ]
  },
  {
   "cell_type": "markdown",
   "metadata": {
    "slideshow": {
     "slide_type": "slide"
    }
   },
   "source": [
    "# Weitere Python-Programmierung\n",
    "\n",
    "## Binäre Suche"
   ]
  },
  {
   "cell_type": "markdown",
   "metadata": {},
   "source": [
    "Implementierung der linearen Suche aus Vorlesung:"
   ]
  },
  {
   "cell_type": "code",
   "execution_count": null,
   "metadata": {
    "slideshow": {
     "slide_type": "-"
    }
   },
   "outputs": [],
   "source": [
    "liste = [1, 4, 6, 8, 11, 13, 16]\n",
    "wert = 13"
   ]
  },
  {
   "cell_type": "code",
   "execution_count": null,
   "metadata": {
    "slideshow": {
     "slide_type": "-"
    }
   },
   "outputs": [],
   "source": [
    "for index in range(len(liste)):\n",
    "    if wert == liste[index]:\n",
    "        print(\"Wert wurde gefunden an Index \", index)\n",
    "        break"
   ]
  },
  {
   "cell_type": "markdown",
   "metadata": {},
   "source": [
    "><div class=\"alert alert-block alert-info\">\n",
    "<b>Wie kann die binäre Suche implementiert werden?\n",
    "</b></div>"
   ]
  },
  {
   "cell_type": "code",
   "execution_count": null,
   "metadata": {},
   "outputs": [],
   "source": [
    "# Lösung:\n",
    "liste = [1, 4, 6, 8, 11, 13, 16]\n",
    "wert = 13\n",
    "\n",
    "low= 0\n",
    "high=len(liste)-1\n",
    "\n",
    "while low <= high:\n",
    "    mid = (low+high) // 2 # // bedeutet, dass wir eine ganze Zahl bekommen (z.B. 2), und keine Dezimalzahl (z.B. 2.5)\n",
    "    guess = liste[mid]\n",
    "    print (\"hoch =\", high, \" Mitte =\", mid, \"unten =\", low )\n",
    "    if guess == wert:\n",
    "        print (\"Wert\", guess, \"wurde gefunden bei Index\", mid)\n",
    "        break\n",
    "    if guess > wert:\n",
    "        print (\"Guess \", guess , \" ist größer als Wert \", wert)\n",
    "        high = mid - 1\n",
    "    else: \n",
    "        print (\"Guess \", guess , \" ist kleiner als Wert \", wert)\n",
    "        low = mid + 1        "
   ]
  },
  {
   "cell_type": "markdown",
   "metadata": {
    "slideshow": {
     "slide_type": "slide"
    }
   },
   "source": [
    "# Vielen Dank für Eure Aufmerksamkeit"
   ]
  }
 ],
 "metadata": {
  "celltoolbar": "Slideshow",
  "kernelspec": {
   "display_name": "Python 3",
   "language": "python",
   "name": "python3"
  },
  "language_info": {
   "codemirror_mode": {
    "name": "ipython",
    "version": 3
   },
   "file_extension": ".py",
   "mimetype": "text/x-python",
   "name": "python",
   "nbconvert_exporter": "python",
   "pygments_lexer": "ipython3",
   "version": "3.7.4"
  },
  "toc": {
   "base_numbering": 1,
   "nav_menu": {},
   "number_sections": false,
   "sideBar": true,
   "skip_h1_title": false,
   "title_cell": "Table of Contents",
   "title_sidebar": "Contents",
   "toc_cell": false,
   "toc_position": {},
   "toc_section_display": true,
   "toc_window_display": false
  },
  "varInspector": {
   "cols": {
    "lenName": 16,
    "lenType": 16,
    "lenVar": 40
   },
   "kernels_config": {
    "python": {
     "delete_cmd_postfix": "",
     "delete_cmd_prefix": "del ",
     "library": "var_list.py",
     "varRefreshCmd": "print(var_dic_list())"
    },
    "r": {
     "delete_cmd_postfix": ") ",
     "delete_cmd_prefix": "rm(",
     "library": "var_list.r",
     "varRefreshCmd": "cat(var_dic_list()) "
    }
   },
   "types_to_exclude": [
    "module",
    "function",
    "builtin_function_or_method",
    "instance",
    "_Feature"
   ],
   "window_display": false
  }
 },
 "nbformat": 4,
 "nbformat_minor": 2
}
