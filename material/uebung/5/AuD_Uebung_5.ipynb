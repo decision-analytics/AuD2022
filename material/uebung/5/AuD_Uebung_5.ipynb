{
 "cells": [
  {
   "cell_type": "markdown",
   "metadata": {
    "slideshow": {
     "slide_type": "slide"
    }
   },
   "source": [
    "<img src=\"./img/logo_wiwi.png\" width=\"23%\" align=\"left\">\n",
    "<img src=\"./img/decision_analytics_logo.png\" width=\"17%\" align=\"right\">\n",
    "\n",
    "<br><br><br><br><br><br><br><br>\n",
    "\n",
    "\n",
    "## Algorithmen und Datenstrukturen\n",
    "Wintersemester 2022/23\n",
    "\n",
    "\n",
    "# Übung 5: Quicksort\n",
    "\n",
    "\n",
    "<br><br><br>\n",
    "J-Prof. Dr. Michael Römer, Till Porrmann "
   ]
  },
  {
   "cell_type": "markdown",
   "metadata": {
    "slideshow": {
     "slide_type": "slide"
    }
   },
   "source": [
    "# Überblick\n",
    "\n",
    "1. Wiederholung Inhalte Vorlesung\n",
    "2. Konzept\n",
    "3. Code\n",
    "4. Übungszettel + Fragestunde\n",
    "5. Christmas Coding Challenge"
   ]
  },
  {
   "cell_type": "markdown",
   "metadata": {
    "slideshow": {
     "slide_type": "slide"
    }
   },
   "source": [
    "# 1. Wiederholung Inhalte Vorlesung\n"
   ]
  },
  {
   "cell_type": "markdown",
   "metadata": {
    "slideshow": {
     "slide_type": "slide"
    }
   },
   "source": [
    "# Wiederholung Inhalte Vorlesung\n",
    "### Allgemein\n",
    "\n",
    "- Algorithmus zum Sortieren einer Liste (gleiche Aufgabe wie Selectionsort)\n",
    "- Basiert auf Teile-und-Herrsche-Verfahren\n",
    "- Zerlegung des Problems in Teilprobleme, auf die rekursiv wieder Quicksort angewendet wird\n",
    "- Sehr performant --> in der Praxis eingesetzt"
   ]
  },
  {
   "cell_type": "markdown",
   "metadata": {
    "slideshow": {
     "slide_type": "slide"
    }
   },
   "source": [
    "# Wiederholung Inhalte Vorlesung\n",
    "### Ablauf\n",
    "\n",
    "- Gesamtliste wird in Teillisten und Pivot aufgeteilt\n",
    "- Pivot in der \"Mitte\", Teillisten werden weiter sortiert\n",
    "- Die Position des Pivots ist final\n",
    "\n",
    "<img src=\"./img/quicksort_pp.jpg\" width=\"100%\" align=\"left\">"
   ]
  },
  {
   "cell_type": "markdown",
   "metadata": {
    "slideshow": {
     "slide_type": "slide"
    }
   },
   "source": [
    "# 2. Konzept\n",
    "\n",
    "- Basisfall\n",
    "- Pivot-Element (Partitionierung)\n",
    "- Rekursionsfall\n",
    "- Ausprobieren"
   ]
  },
  {
   "cell_type": "markdown",
   "metadata": {
    "slideshow": {
     "slide_type": "slide"
    }
   },
   "source": [
    "# Konzept\n",
    "## Basisfall\n",
    "\n",
    "- Basisfall für Quicksort ist Liste, die trivial zu sortieren ist\n",
    "- Leere Liste oder Liste mit nur einem Element\n",
    "- \"Lösung\" (Ergebnis) des Basisfalls: Rückgabe des Elements bzw der leeren Liste"
   ]
  },
  {
   "cell_type": "markdown",
   "metadata": {
    "slideshow": {
     "slide_type": "slide"
    }
   },
   "source": [
    "# Konzept\n",
    "## Partitionierung\n",
    "\n",
    "- Wenn Liste mehrere Einträge hat: Vereinfachen des Problems\n",
    "- Dafür Aufteilen in kleinere Listen, die **relativ zueinander** sortiert sind\n",
    "\n",
    "><div class=\"alert alert-block alert-info\">\n",
    "<b>Wie kann man so eine Aufteilung vornehmen?</b></div>"
   ]
  },
  {
   "cell_type": "markdown",
   "metadata": {
    "slideshow": {
     "slide_type": "slide"
    }
   },
   "source": [
    "# Konzept\n",
    "## Partitionierung\n",
    "\n",
    "- Spalten der Liste anhand eines (Pivot-)Elementes\n",
    "- Vergleich des Pivot-Elements mit jedem anderen Element\n",
    "- Kleinere Elemente werden davor positioniert, größere dahinter\n",
    "- Dadurch Pivot richtig positioniert, kleinere und größere aber noch durcheinander\n",
    "- Mindestens ein Element (nämlich das Pivot-Element) wird in jedem Schritt \"sortiert\""
   ]
  },
  {
   "cell_type": "markdown",
   "metadata": {
    "slideshow": {
     "slide_type": "slide"
    }
   },
   "source": [
    "# Konzept\n",
    "## Rekursionsfall\n",
    "\n",
    "- Kleinere Teillisten müssen auch sortiert werden\n",
    "- Dafür wird erneut Quicksort angewendet\n",
    "- Vorgehen exakt wie vorher\n",
    "- In jedem Rekursionfall **zwei** neue Aufrufe der Funktion"
   ]
  },
  {
   "cell_type": "markdown",
   "metadata": {
    "slideshow": {
     "slide_type": "slide"
    }
   },
   "source": [
    "# Konzept\n",
    "### Alternative Perspektive\n",
    "\n",
    "- In Vorlesung haben wir Elemente in neue Listen kopiert\n",
    "- Alternativ: Tauschen der Elemente\n",
    "- Pivot-Element wird an richtige Position getauscht, kleinere Elemente davor, größere dahinter"
   ]
  },
  {
   "cell_type": "markdown",
   "metadata": {
    "slideshow": {
     "slide_type": "slide"
    }
   },
   "source": [
    "# Konzept\n",
    "\n",
    "## Ausprobieren\n",
    "\n",
    "><div class=\"alert alert-block alert-info\">\n",
    "<b>Sortiert 13 Spielkarten mit Quicksort.</b></div>\n",
    "\n",
    "- Folgt dabei sehr genau dem Algorithmus\n",
    "- Achtet auf die richtige Reihenfolge des Abarbeitens"
   ]
  },
  {
   "cell_type": "markdown",
   "metadata": {
    "slideshow": {
     "slide_type": "slide"
    }
   },
   "source": [
    "# Konzept\n",
    "\n",
    "## Ausprobieren\n",
    "\n",
    "><div class=\"alert alert-block alert-info\">\n",
    "<b>Sortiert das Array [5, 1, 9, 4, 2, 7, 3] mit Stift und Papier.</b></div>\n",
    "\n",
    "- Folgt dabei sehr genau dem Algorithmus\n",
    "- Achtet auf die richtige Reihenfolge des Abarbeitens"
   ]
  },
  {
   "cell_type": "markdown",
   "metadata": {
    "slideshow": {
     "slide_type": "slide"
    }
   },
   "source": [
    "# 3. Code\n",
    "\n",
    "- Überblick\n",
    "- Kompakte Schreibweise\n",
    "- ```return``` Statement"
   ]
  },
  {
   "cell_type": "markdown",
   "metadata": {
    "slideshow": {
     "slide_type": "slide"
    }
   },
   "source": [
    "# Code\n",
    "### Überblick\n",
    "\n",
    "- Gesamter Code für Quicksort:"
   ]
  },
  {
   "cell_type": "code",
   "execution_count": null,
   "metadata": {
    "slideshow": {
     "slide_type": "-"
    }
   },
   "outputs": [],
   "source": [
    "def quicksort(array):\n",
    "    # Basisfall:\n",
    "    if len(array) <= 1:  \n",
    "        return array\n",
    "    \n",
    "    # Rekursionsfall:\n",
    "    pivot = array[0]\n",
    "    left = []\n",
    "    for i in array[1:]:\n",
    "        if i <= pivot:\n",
    "            left.append(i)\n",
    "            \n",
    "    right=[]\n",
    "    for i in array[1:]:\n",
    "        if i > pivot:\n",
    "            right.append(i)\n",
    "            \n",
    "    return quicksort(left) + [pivot] + quicksort(right)\n"
   ]
  },
  {
   "cell_type": "markdown",
   "metadata": {
    "slideshow": {
     "slide_type": "fragment"
    }
   },
   "source": [
    "><div class=\"alert alert-block alert-info\">\n",
    "<b>Was passiert mit dem ursprünglichen Array?</b></div>"
   ]
  },
  {
   "cell_type": "markdown",
   "metadata": {
    "slideshow": {
     "slide_type": "slide"
    }
   },
   "source": [
    "# Code\n",
    "### Kompakte Schreibweise\n",
    "\n",
    "- Alternative Erstellung der Listen:"
   ]
  },
  {
   "cell_type": "code",
   "execution_count": null,
   "metadata": {
    "slideshow": {
     "slide_type": "-"
    }
   },
   "outputs": [],
   "source": [
    "def quicksort(array):\n",
    "    # Basisfall:\n",
    "    if len(array) <= 1:  \n",
    "        return array\n",
    "    \n",
    "    # Rekursionsfall:\n",
    "    pivot = array[0]\n",
    "    \n",
    "    left = [i for  i in array[1:] if i <= pivot]          \n",
    "    right = [i for  i in array[1:] if i > pivot]\n",
    "            \n",
    "    return quicksort(left) + [pivot] + quicksort(right)\n"
   ]
  },
  {
   "cell_type": "markdown",
   "metadata": {
    "slideshow": {
     "slide_type": "slide"
    }
   },
   "source": [
    "# Code\n",
    "### ```return``` Statement\n",
    "\n",
    "><div class=\"alert alert-block alert-info\">\n",
    "<b>Was gibt uns die Funktion als Wert zurück?</b></div>"
   ]
  },
  {
   "cell_type": "code",
   "execution_count": null,
   "metadata": {
    "slideshow": {
     "slide_type": "-"
    }
   },
   "outputs": [],
   "source": [
    "def quicksort(array):\n",
    "    # Basisfall:\n",
    "    if len(array) <= 1:  \n",
    "        return array\n",
    "    \n",
    "    # Rekursionsfall:\n",
    "    pivot = array[0]\n",
    "    \n",
    "    left = [i for  i in array[1:] if i <= pivot]          \n",
    "    right = [i for  i in array[1:] if i > pivot]\n",
    "            \n",
    "    return quicksort(left) + [pivot] + quicksort(right)\n"
   ]
  },
  {
   "cell_type": "markdown",
   "metadata": {
    "slideshow": {
     "slide_type": "slide"
    }
   },
   "source": [
    "# 4. Übungszettel + Fragestunde"
   ]
  },
  {
   "cell_type": "markdown",
   "metadata": {
    "slideshow": {
     "slide_type": "slide"
    }
   },
   "source": [
    "# 5. Christmas Coding Challenge"
   ]
  },
  {
   "cell_type": "markdown",
   "metadata": {
    "slideshow": {
     "slide_type": "slide"
    }
   },
   "source": [
    "# Christmas Coding Challenge\n",
    "\n",
    "## Diebstahl beim Weihnachtsmann\n",
    "\n",
    "### Teil 1: Das fehlende Geschenk\n",
    "\n",
    "- Vor dem Ausliefern aller Geschenke wurden diese durchgezählt\n",
    "- Aber es fehlt eins!\n",
    "- Der Sack sollte 100 Geschenke enthalten, es sind aber nur 99\n",
    "- Die Geschenke waren durchnummeriert von 1 bis 100\n",
    "\n",
    "><div class=\"alert alert-block alert-info\">\n",
    "<b>Finde das fehlende Geschenk!</b></div>"
   ]
  },
  {
   "cell_type": "code",
   "execution_count": null,
   "metadata": {},
   "outputs": [],
   "source": [
    "import random"
   ]
  },
  {
   "cell_type": "code",
   "execution_count": null,
   "metadata": {},
   "outputs": [],
   "source": [
    "geschenke = list(range(1,101))\n",
    "\n",
    "geschenke.remove(random.randint(1,101))"
   ]
  },
  {
   "cell_type": "markdown",
   "metadata": {
    "slideshow": {
     "slide_type": "slide"
    }
   },
   "source": [
    "# Christmas Coding Challenge\n",
    "\n",
    "## Diebstahl beim Weihnachtsmann\n",
    "\n",
    "### Teil 2: Verlust im Sturm\n",
    "\n",
    "- Nachdem das Geschenk ersetzt wurde fliegt der Weihnachtsmann los\n",
    "- Er wird von einem Sturm überrascht\n",
    "- In dem Sturm fallen 2 Geschenke aus dem Sack\n",
    "- Diese müssen ebenfalls ersetzt werden\n",
    "\n",
    "><div class=\"alert alert-block alert-info\">\n",
    "<b>Welche Geschenke fehlen?</b></div>\n",
    "\n",
    "><div class=\"alert alert-block alert-info\">\n",
    "<b>Finde den Fehler in Tills Code!</b></div>"
   ]
  },
  {
   "cell_type": "code",
   "execution_count": null,
   "metadata": {},
   "outputs": [],
   "source": [
    "geschenke2 = list(range(1,101))\n",
    "\n",
    "geschenke2.remove(random.randint(1,101))\n",
    "geschenke2.remove(random.randint(1,101))"
   ]
  },
  {
   "cell_type": "markdown",
   "metadata": {
    "slideshow": {
     "slide_type": "slide"
    }
   },
   "source": [
    "# Christmas Coding Challenge\n",
    "\n",
    "## Diebstahl beim Weihnachtsmann\n",
    "\n",
    "### Teil 3: Der kleptomanische Elf\n",
    "\n",
    "- Das Fehlen der Geschenke scheint kein Einzelfall zu sein\n",
    "- Ein Elf klaut systematisch jeweils ein Geschenk aus jedem Sack, den er packen soll\n",
    "- Es gibt 10 Elfen, die fürs Packen verantwortlich sind\n",
    "- Jeder dieser Elfen hat schon 100 Säcke gepackt\n",
    "- Es ist markiert welcher Sack von welchem Elf gepackt wurde\n",
    "- Die Säcke mit den fehlenden Geschenken müssen gefunden werden\n",
    "\n",
    "\n",
    "- Es herrscht Zeitdruck, daher können die Geschenke nicht gezählt werden\n",
    "- Uns steht aber eine Waage zur Verfügung, mit der wir ein Mal wiegen dürfen\n",
    "- Dabei können wir so viele Säcke wie wir wollen wiegen\n",
    "- Alle Geschenke sind exakt gleich schwer\n",
    "\n",
    "><div class=\"alert alert-block alert-info\">\n",
    "<b>Finde den kleptomanischen Elf!</b></div>"
   ]
  },
  {
   "cell_type": "markdown",
   "metadata": {
    "slideshow": {
     "slide_type": "slide"
    }
   },
   "source": [
    "# Vielen Dank für Eure Aufmerksamkeit"
   ]
  }
 ],
 "metadata": {
  "celltoolbar": "Slideshow",
  "kernelspec": {
   "display_name": "Python 3",
   "language": "python",
   "name": "python3"
  },
  "language_info": {
   "codemirror_mode": {
    "name": "ipython",
    "version": 3
   },
   "file_extension": ".py",
   "mimetype": "text/x-python",
   "name": "python",
   "nbconvert_exporter": "python",
   "pygments_lexer": "ipython3",
   "version": "3.7.4"
  },
  "toc": {
   "base_numbering": 1,
   "nav_menu": {},
   "number_sections": false,
   "sideBar": true,
   "skip_h1_title": false,
   "title_cell": "Table of Contents",
   "title_sidebar": "Contents",
   "toc_cell": false,
   "toc_position": {},
   "toc_section_display": true,
   "toc_window_display": false
  },
  "varInspector": {
   "cols": {
    "lenName": 16,
    "lenType": 16,
    "lenVar": 40
   },
   "kernels_config": {
    "python": {
     "delete_cmd_postfix": "",
     "delete_cmd_prefix": "del ",
     "library": "var_list.py",
     "varRefreshCmd": "print(var_dic_list())"
    },
    "r": {
     "delete_cmd_postfix": ") ",
     "delete_cmd_prefix": "rm(",
     "library": "var_list.r",
     "varRefreshCmd": "cat(var_dic_list()) "
    }
   },
   "types_to_exclude": [
    "module",
    "function",
    "builtin_function_or_method",
    "instance",
    "_Feature"
   ],
   "window_display": false
  }
 },
 "nbformat": 4,
 "nbformat_minor": 2
}
