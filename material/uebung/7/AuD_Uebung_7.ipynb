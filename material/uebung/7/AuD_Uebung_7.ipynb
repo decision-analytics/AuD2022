{
 "cells": [
  {
   "cell_type": "markdown",
   "metadata": {
    "slideshow": {
     "slide_type": "slide"
    }
   },
   "source": [
    "<img src=\"./img/logo_wiwi.png\" width=\"23%\" align=\"left\">\n",
    "<img src=\"./img/decision_analytics_logo.png\" width=\"17%\" align=\"right\">\n",
    "\n",
    "<br><br><br><br><br><br><br><br>\n",
    "\n",
    "\n",
    "## Algorithmen und Datenstrukturen\n",
    "Wintersemester 2022/23\n",
    "\n",
    "\n",
    "# Übung 7: Dijkstra und DAGs\n",
    "\n",
    "\n",
    "<br><br><br>\n",
    "J-Prof. Dr. Michael Römer, Till Porrmann "
   ]
  },
  {
   "cell_type": "markdown",
   "metadata": {
    "slideshow": {
     "slide_type": "slide"
    }
   },
   "source": [
    "# Überblick\n",
    "\n",
    "1. Wiederholung Vorlesung\n",
    "2. Dijkstra-Algorithmus\n",
    "3. Directed Acyclic Graphs (DAGs)\n",
    "4. Vergleich (Laufzeitkomplexität)"
   ]
  },
  {
   "cell_type": "markdown",
   "metadata": {
    "slideshow": {
     "slide_type": "slide"
    }
   },
   "source": [
    "# 1. Wiederholung Vorlesung\n"
   ]
  },
  {
   "cell_type": "markdown",
   "metadata": {
    "slideshow": {
     "slide_type": "slide"
    }
   },
   "source": [
    "# Wiederholung Vorlesung\n",
    "## Dijkstra-Algorithmus \n",
    "\n",
    "\n",
    "- Der Dijkstra-Algorithmus sucht nach kürzesten Wegen\n",
    "- Dabei nicht die Anzahl der Schritte relevant, sondern der Aufwand, der mit den Schritten verbunden ist (Kantengewichte) --> Voraussetzung ist gewichteter Graph\n",
    "\n",
    "**Idee:**\n",
    "- Vom Startknoten aus wird geschaut, wie weit die direkt verbundenen Knoten entfernt sind \n",
    "- Wir gehen vom nächstgelegenen Knoten aus und bestimmen die Entfernungen seiner Nachbarn **zum Startknoten**\n",
    "- Danach wird er als abgeschlossen markiert und wir wiederholen den Vorgang mit dem Knoten, der jetzt am nächsten zum Startknoten ist\n",
    "- Wenn alle Knoten abgeschlossen sind, hat der Algorithmus den kürzesten Weg gefunden"
   ]
  },
  {
   "cell_type": "markdown",
   "metadata": {
    "slideshow": {
     "slide_type": "slide"
    }
   },
   "source": [
    "# Wiederholung Vorlesung\n",
    "## Ablauf Dijkstra\n",
    "\n",
    "<img src=\"./img/dijkstra_ablauf.jpg\" width=\"45%\" align=\"left\">"
   ]
  },
  {
   "cell_type": "markdown",
   "metadata": {
    "slideshow": {
     "slide_type": "slide"
    }
   },
   "source": [
    "# Wiederholung Vorlesung\n",
    "## DAGs\n",
    "\n",
    "- Directed Acyclic Graph\n",
    "- Spezieller Fall von Graphen\n",
    "- Gerichtet und ohne Zyklen (nicht notwendigerweise gewichtet)\n",
    "- Gut geeignet zur Darstellung von zeitlichen Abläufen (und vielem mehr)\n",
    "- Struktur von DAGs kann für effiziente Implementierungen genutzt werden\n",
    "\n",
    "<img src=\"./img/dag_einfach.jpg\" width=\"45%\" align=\"left\">"
   ]
  },
  {
   "cell_type": "markdown",
   "metadata": {
    "slideshow": {
     "slide_type": "slide"
    }
   },
   "source": [
    "# Wiederholung Vorlesung\n",
    "## Kürzeste Wege in DAGs\n",
    "\n",
    "- DAGs mit topologisch sortierten Knoten als Grundlage für verbesserten Kürzeste Wege Algorithmus\n",
    "- Algorithmus ähnelt Dijkstra\n",
    "- Laufzeit wird verkürzt\n",
    "- Nächster betrachteter Knoten muss nicht mehr gesucht werden, sondern wird aus topologisch sortierter Liste der Knoten entnommen"
   ]
  },
  {
   "cell_type": "markdown",
   "metadata": {
    "slideshow": {
     "slide_type": "slide"
    }
   },
   "source": [
    "# 2. Dijkstra-Algorithmus\n",
    "\n",
    "- Allgemein\n",
    "- Ablauf des Algorithmus\n",
    "- Übungsaufgabe\n",
    "- Implementierung"
   ]
  },
  {
   "cell_type": "markdown",
   "metadata": {
    "slideshow": {
     "slide_type": "slide"
    }
   },
   "source": [
    "# Dijkstra-Algorithmus\n",
    "\n",
    "## Allgemein\n",
    "\n",
    "- Algorithmus zum Finden des kürzesten Weges zwischen zwei beliebigen Knoten in einem Graph\n",
    "- Knoten werden gelabelt (temporäre und permanente Labels)\n",
    "- Alle Knoten werden im Laufe des Algorithmus als Ausgangspunkt genommen (je nach Implementierung ggf nur relevante Teilmenge)\n",
    "\n",
    "\n",
    "- Visualisierung zum Verständnis sehr hilfreich\n",
    "- Gutes [Online-Tool](https://algorithms.discrete.ma.tum.de/graph-algorithms/spp-dijkstra/index_en.html)\n",
    "- Ablauf im Graph und in den Tabellen (siehe Vorlesung) nachvollziehbar"
   ]
  },
  {
   "cell_type": "markdown",
   "metadata": {
    "slideshow": {
     "slide_type": "slide"
    }
   },
   "source": [
    "# Dijkstra-Algorithmus\n",
    "\n",
    "## Ablauf\n",
    "\n",
    "\n",
    "**Der Algorithus im Überblick:**\n",
    "0. Setze die Startwerte für die Knoten-Labels\n",
    "\n",
    "\n",
    "1. Finde den Knoten, der dem Start am nächsten ist und noch nicht bearbeitet wurde\n",
    "2. Aktualisiere die Labels seiner Nachfolger\n",
    "\n",
    "Wiederhole 1. und 2., bis alle Knoten abgearbeitet wurden\n",
    "\n",
    "<br>\n",
    "\n",
    "**Ablauf von Schritt 2:**\n",
    "- Für alle Nachfolger des Knotens:\n",
    "- 2.1 Berechne eigenes Label + Distanz zum Nachfolger\n",
    "- 2.2 Wenn Ergebnis kleiner ist als Label des Nachfolgers:\n",
    "    - 2.2a Setze Ergebnis als neues Label des Nachfolgers"
   ]
  },
  {
   "cell_type": "markdown",
   "metadata": {
    "slideshow": {
     "slide_type": "slide"
    }
   },
   "source": [
    "# Dijkstra-Algorithmus\n",
    "\n",
    "## Ablauf\n",
    "\n",
    "\n",
    "> <div class=\"alert alert-block alert-info\">\n",
    "<b>Wende den Dijkstra-Algorithmus auf den unten stehenden Graphen an.</b>\n",
    "</div>\n",
    "\n",
    "<img src=\"./img/dijkstra_aufgabe.jpg\" width=\"65%\" align=\"middle\">"
   ]
  },
  {
   "cell_type": "markdown",
   "metadata": {
    "slideshow": {
     "slide_type": "slide"
    }
   },
   "source": [
    "# Dijkstra-Algorithmus\n",
    "\n",
    "## Bestimmen des kürzesten Weges\n",
    "\n",
    "- Nach Abschluss des Algorithmus ist Entfernung vom Start zum Ziel bekannt\n",
    "- Kürzester Weg kann ermittelt werden, ist aber vom Algorithmus selbst nicht gegeben\n",
    "- Auf Basis der Vorgänger wird vom Ziel aus rückwärts vorgegangen"
   ]
  },
  {
   "cell_type": "markdown",
   "metadata": {
    "slideshow": {
     "slide_type": "slide"
    }
   },
   "source": [
    "# Dijkstra-Algorithmus\n",
    "\n",
    "## Python-Implementierung"
   ]
  },
  {
   "cell_type": "code",
   "execution_count": null,
   "metadata": {},
   "outputs": [],
   "source": [
    "def dijkstra(graph, start_node):\n",
    "    \n",
    "    #initalisierung der Datenstrukturen\n",
    "    processed = set()\n",
    "    parents = {}\n",
    "    costs = {}\n",
    "    \n",
    "    for node in graph: # iteriere über alle Knoten \n",
    "        costs[node] = float(\"inf\")  # wir setzen zunächst alle Kosten auf unendlich\n",
    "    costs[start_node] = 0  # dann setzen wir die Kosten des Startknotens auf 0\n",
    "    \n",
    "    node = start_node # wir beginnen mit dem Startknoten    \n",
    "    \n",
    "    while node is not None: # solange wir einen zu bearbeitenden Knoten haben\n",
    "        \n",
    "        # iteration über die \"innere\" Hash-Tabelle von node (Schlüssel: Nachbar, Wert: Kantengewicht (distanz))\n",
    "        for neighbor, edge_weight in graph[node].items(): # .items() sorgt dafür, dass Schlüssel-Wert-Paar genutzt wird\n",
    "            \n",
    "            # wenn: Entfernung des node vom Startknoten + Distanz von node zu neighbor < bisherige Enferung(neighbor)\n",
    "            if costs[node] + edge_weight < costs[neighbor]: \n",
    "                costs[neighbor] = costs[node] + edge_weight  # aktualisiere Entfernungslabel costs von neighbor\n",
    "                parents[neighbor] = node # aktualisiere den Vorgänger auf dem kürzesten Weg zum neighbor\n",
    "        \n",
    "        processed.add(node) # füge den Knoten zur Menge der beabeiteten hinzu       \n",
    "        \n",
    "        node = find_lowest_cost_node(costs, processed) # finde den nächsten Knoten (None, wenn alle bearbeitet wurden) \n",
    "    \n",
    "    return costs, parents # gib sowohl die Kosten als auch die parents zurück\n"
   ]
  },
  {
   "cell_type": "markdown",
   "metadata": {
    "slideshow": {
     "slide_type": "slide"
    }
   },
   "source": [
    "# Dijkstra-Algorithmus\n",
    "\n",
    "## Python-Implementierung"
   ]
  },
  {
   "cell_type": "code",
   "execution_count": null,
   "metadata": {},
   "outputs": [],
   "source": [
    "def find_lowest_cost_node(costs, processed):\n",
    "    lowest_cost = float(\"inf\") # initialisierung: Enfernung / Kosten auf unendlich\n",
    "    lowest_cost_node = None #initialisierung\n",
    "    \n",
    "    for node, cost in costs.items(): # .items() gibt uns pro Iteration ein Schlüssel-Wert Paar\n",
    "        \n",
    "        # wenn die Entfernung des aktuellen Knotens < die bisher kürzeste Entfernung UND der Knoten noch nicht bearbeitet wurde:\n",
    "        if cost < lowest_cost and node not in processed: \n",
    "            lowest_cost = cost   # aktualisiere die bisher besten Kosten\n",
    "            lowest_cost_node = node \n",
    "    return lowest_cost_node"
   ]
  },
  {
   "cell_type": "markdown",
   "metadata": {
    "slideshow": {
     "slide_type": "slide"
    }
   },
   "source": [
    "# 3. Directed Acyclic Graphs (DAGs)\n",
    "\n",
    "- Allgemein\n",
    "- Topologische Sortierung\n",
    "- Topologische Sortierung - Algorithmus\n",
    "- Übungsaufgabe\n",
    "- Kürzeste Wege in DAGs - Algorithmus\n",
    "- Übungsaufgabe\n",
    "- Implementierung"
   ]
  },
  {
   "cell_type": "markdown",
   "metadata": {
    "slideshow": {
     "slide_type": "slide"
    }
   },
   "source": [
    "# Directed Acyclic Graphs (DAGs)\n",
    "\n",
    "## Allgemein\n",
    "\n",
    "- Graphen, die gerichtet und ohne Zyklen sind\n",
    "- Erlaubt Nutzung von speziellen Algorithmen, die nicht für alle Graphen funktionieren\n",
    "    - Für uns vor allem wichtig: \n",
    "        - Topologische Sortierung \n",
    "        - Kürzeste Wege Verfahren \n",
    "- Spezialform: Bäume\n",
    "\n",
    "<img src=\"./img/dag_bsp.jpg\" width=\"45%\" align=\"middle\">"
   ]
  },
  {
   "cell_type": "markdown",
   "metadata": {
    "slideshow": {
     "slide_type": "slide"
    }
   },
   "source": [
    "# Directed Acyclic Graphs (DAGs)\n",
    "\n",
    "## Topologische Sortierung\n",
    "\n",
    "- Nur für DAGs möglich\n",
    "- Oft nicht eindeutig\n",
    "- Algorithmus zum Finden von topologischer Sortierung kann genutzt werden, um Graphen auf Zyklen zu überprüfen (wenn unklar ob Graph DAG ist oder nicht)"
   ]
  },
  {
   "cell_type": "markdown",
   "metadata": {
    "slideshow": {
     "slide_type": "slide"
    }
   },
   "source": [
    "# Directed Acyclic Graphs (DAGs)\n",
    "\n",
    "## Topologische Sortierung - Algorithmus\n",
    "\n",
    "- Schritt 0: Erstelle eine leere Liste\n",
    "\n",
    "\n",
    "- Schritt 1: Finde einen Knoten ohne Vorgänger und füge ihn der Liste hinzu\n",
    "- Schritt 2: Entferne den Knoten aus dem Graphen\n",
    "\n",
    "\n",
    "- Wiederhole 1 und 2 solange, wie es Knoten ohne Vorgänger im Graphen gibt\n",
    "\n",
    "\n",
    "<br>\n",
    "\n",
    "**Anmerkung:** Wenn es keine Knoten ohne Vorgänger mehr gibt, sind alle Knoten abgearbeitet. Sollte es doch noch Knoten geben, handelt es sich nicht um einen DAG."
   ]
  },
  {
   "cell_type": "markdown",
   "metadata": {
    "slideshow": {
     "slide_type": "slide"
    }
   },
   "source": [
    "# Directed Acyclic Graphs (DAGs)\n",
    "\n",
    "## Topologische Sortierung - Übungsaufgabe\n",
    "\n",
    "> <div class=\"alert alert-block alert-info\">\n",
    "<b>Wende den Algorithmus zur topologischen Sortierung auf den folgenden Graphen an:</b>\n",
    "</div>"
   ]
  },
  {
   "cell_type": "markdown",
   "metadata": {
    "cell_style": "split",
    "slideshow": {
     "slide_type": "-"
    }
   },
   "source": [
    "**Knoten:**\n",
    "- Programmieren lernen\n",
    "- AuD bestehen\n",
    "- Zur Schule gehen\n",
    "- Abitur\n",
    "- Bachelor-Abschluss\n",
    "- Master-Abschluss\n",
    "- Nobel-Preis gewinnen"
   ]
  },
  {
   "cell_type": "markdown",
   "metadata": {
    "cell_style": "split",
    "slideshow": {
     "slide_type": "-"
    }
   },
   "source": [
    "**Kanten:**\n",
    "- Programmieren lernen --> AuD bestehen\n",
    "- Abitur --> Bachelor-Abschluss\n",
    "- AuD bestehen --> Bachelor-Abschluss\n",
    "- Bachelor-Abschluss --> Master-Abschluss\n",
    "- Zur Schule gehen --> Abitur"
   ]
  },
  {
   "cell_type": "markdown",
   "metadata": {
    "slideshow": {
     "slide_type": "slide"
    }
   },
   "source": [
    "# Directed Acyclic Graphs (DAGs)\n",
    "\n",
    "## Kürzeste Wege\n",
    "\n",
    "- In Graphen kürzeste Wege zwischen Knoten oft relevant\n",
    "- Bereits kennengelernt: Dijkstra (und Breitensuche)\n",
    "- Verbessertes Verfahren für DAGs möglich\n",
    "- Ziel ist geringe Laufzeit"
   ]
  },
  {
   "cell_type": "markdown",
   "metadata": {
    "slideshow": {
     "slide_type": "slide"
    }
   },
   "source": [
    "# Directed Acyclic Graphs (DAGs)\n",
    "\n",
    "## Kürzeste Wege\n",
    "\n",
    "- Ähnlicher Ansatz wie bei Dijkstra: Knoten können temporär und permanent gelabelt werden\n",
    "- Durchlaufen aller Knoten und jeweils Aktualisierung der Nachfolger\n",
    "\n",
    "\n",
    "- **Aber:** Nutzung der topologischen Sortierung:\n",
    "    - Es muss nicht in jedem Schritt nächster Knoten zu Start gefunden werden\n",
    "    - Wenn topologische Sortierung vorliegt, existiert Reihenfolge der Knoten so, dass alle Nachfolger in der Reihenfolge **nach** ihren Vorgängern kommen\n",
    "    - Dadurch kann topologische Sortierung als Reihenfolge der Knoten-Abarbeitung genutzt werden ohne Gefahr einzugehen, dass permanent gelabelter Knoten noch geändert werden muss"
   ]
  },
  {
   "cell_type": "markdown",
   "metadata": {
    "slideshow": {
     "slide_type": "slide"
    }
   },
   "source": [
    "# Directed Acyclic Graphs (DAGs)\n",
    "\n",
    "## Kürzeste Wege - Algorithmus\n",
    "\n",
    "- (ggf. Vorbereitung: DAG topologisch sortieren)\n",
    "\n",
    "- Schritt 0: Setze Entfernung für alle Knoten auf $\\infty$, außer Startknoten (Entfernung $0$)\n",
    "\n",
    "\n",
    "- Schritt 1: Nimm den nächsten Knoten aus der topologisch sortierten Liste  \n",
    "- Schritt 2: Aktualisiere alle Nachfolger-Knoten, wenn Weg über betrachteten Knoten kürzer ist  \n",
    "\n",
    "  \n",
    "- Wiederhole Schritte 1 und 2 solange, bis Liste leer ist"
   ]
  },
  {
   "cell_type": "markdown",
   "metadata": {
    "slideshow": {
     "slide_type": "slide"
    }
   },
   "source": [
    "# Directed Acyclic Graphs (DAGs)\n",
    "\n",
    "## Kürzeste Wege - Beispiel\n",
    "\n",
    "> <div class=\"alert alert-block alert-info\">\n",
    "<b>Wende den Algorithmus für kürzeste Wege in DAGs auf den folgenden Graphen (von a zu e) an:</b>\n",
    "</div>\n",
    "\n",
    "### Topologische sortierte Liste: ```[a, b, c, d, f, e]```\n",
    "\n",
    "<img src=\"./img/dag_aufgabe.jpg\" width=\"45%\" align=\"middle\">"
   ]
  },
  {
   "cell_type": "markdown",
   "metadata": {},
   "source": [
    "| Knoten | Entfernung Schritt 0 |Entfernung Schritt 1 | Entfernung Schritt 2 | Entfernung Schritt 3 | Entfernung Schritt 4 | Entfernung Schritt 5 |\n",
    "| :---: | :---: | :---: | :---: | :---: | :---: | :---: |\n",
    "| **a** | 0 |    |    |    |   \n",
    "| **b** | $\\infty$ |    |    |    |   \n",
    "| **c** | $\\infty$ |    |    |    |   \n",
    "| **d** | $\\infty$ |    |    |    |   \n",
    "| **e** | $\\infty$ |    |    |    |   \n",
    "| **f** | $\\infty$ |    |    |    |   "
   ]
  },
  {
   "cell_type": "markdown",
   "metadata": {
    "slideshow": {
     "slide_type": "slide"
    }
   },
   "source": [
    "# Directed Acyclic Graphs (DAGs)\n",
    "\n",
    "## Implementierung"
   ]
  },
  {
   "cell_type": "code",
   "execution_count": 1,
   "metadata": {},
   "outputs": [],
   "source": [
    "def dag_shortest_path(graph, start_node, topo_sorted_nodes): # Wir übergeben die sortierten Knoten bereits als list\n",
    "    \n",
    "    #initalisierung der Datenstrukturen\n",
    "    parents = {}\n",
    "    costs = {}\n",
    "    \n",
    "    #Setzen der Startwerte\n",
    "    for node in graph: # iteriere über alle Knoten \n",
    "        costs[node] = float(\"inf\")  # wir setzen zunächst alle Kosten auf unendlich\n",
    "    costs[start_node] = 0  # dann setzen wir die Kosten des Startknotens auf 0\n",
    "\n",
    "    \n",
    "    for node in topo_sorted_nodes: # für jeden Knoten, in topologischer Sortierung\n",
    "        \n",
    "        # iteration über die \"innere\" Hash-Tabelle von node (Schlüssel: Nachbar, Wert: Kantengewicht (distanz))\n",
    "        for neighbor, edge_weight in graph[node].items(): # .items() sorgt dafür, dass Schlüssel-Wert-Paar genutzt wird\n",
    "\n",
    "            # wenn: Entfernung des node vom Startknoten + Distanz von node zu neighbor < bisherige Enferung(neighbor)\n",
    "            if costs[node] + edge_weight < costs[neighbor]: \n",
    "                costs[neighbor] = costs[node] + edge_weight  # aktualisiere Entfernungslabel costs von neighbor\n",
    "                parents[neighbor] = node # aktualisiere den Vorgänger auf dem kürzesten Weg zum neighbor\n",
    "            \n",
    "    return costs, parents # gib sowohl die Kosten als auch die parents zurück"
   ]
  },
  {
   "cell_type": "markdown",
   "metadata": {
    "slideshow": {
     "slide_type": "slide"
    }
   },
   "source": [
    "# Directed Acyclic Graphs (DAGs)\n",
    "\n",
    "## Implementierung - Übungsaufgabe\n",
    "\n",
    "> <div class=\"alert alert-block alert-info\">\n",
    "<b>Implementiere den Graph mit Hash-Tabellen und nutze die Funktion \"dag_shortest_path\" um den kürzesten Weg zu finden.</b>\n",
    "</div>\n",
    "\n",
    "### Topologische sortierte Liste: ```[a, b, c, d, f, e]```\n",
    "\n",
    "<img src=\"./img/dag_aufgabe.jpg\" width=\"45%\" align=\"middle\">"
   ]
  },
  {
   "cell_type": "code",
   "execution_count": null,
   "metadata": {},
   "outputs": [],
   "source": []
  },
  {
   "cell_type": "markdown",
   "metadata": {
    "slideshow": {
     "slide_type": "slide"
    }
   },
   "source": [
    "# 4. Vergleich\n",
    "\n",
    "- Laufzeiten Dijkstra\n",
    "- Laufzeiten kürzeste Wege in DAGs"
   ]
  },
  {
   "cell_type": "markdown",
   "metadata": {
    "slideshow": {
     "slide_type": "slide"
    }
   },
   "source": [
    "# Vergleich\n",
    "\n",
    "## Laufzeit Dijkstra\n",
    "\n",
    "><div class=\"alert alert-block alert-info\">\n",
    "<b>Welche Laufzeitkomplexität hat das Verfahren?</b></div>"
   ]
  },
  {
   "cell_type": "code",
   "execution_count": null,
   "metadata": {},
   "outputs": [],
   "source": [
    "def dijkstra(graph, start_node):\n",
    "    processed = set()\n",
    "    parents = {}\n",
    "    costs = {}\n",
    "    \n",
    "    for node in graph:\n",
    "        costs[node] = float(\"inf\")\n",
    "    costs[start_node] = 0  \n",
    "    node = start_node \n",
    "    \n",
    "    while node is not None:\n",
    "        for neighbor, edge_weight in graph[node].items(): \n",
    "            if costs[node] + edge_weight < costs[neighbor]: \n",
    "                costs[neighbor] = costs[node] + edge_weight\n",
    "                parents[neighbor] = node \n",
    "        \n",
    "        processed.add(node) \n",
    "        node = find_lowest_cost_node(costs, processed) \n",
    "        \n",
    "    return costs, parents"
   ]
  },
  {
   "cell_type": "code",
   "execution_count": null,
   "metadata": {},
   "outputs": [],
   "source": [
    "def find_lowest_cost_node(costs, processed):\n",
    "    lowest_cost = float(\"inf\")\n",
    "    lowest_cost_node = None \n",
    "    \n",
    "    for node, cost in costs.items(): \n",
    "        if cost < lowest_cost and node not in processed: \n",
    "            lowest_cost = cost  \n",
    "            lowest_cost_node = node \n",
    "    return lowest_cost_node"
   ]
  },
  {
   "cell_type": "markdown",
   "metadata": {
    "slideshow": {
     "slide_type": "slide"
    }
   },
   "source": [
    "# Vergleich\n",
    "\n",
    "## Laufzeit Dijkstra\n",
    "\n",
    "- Laufzeit abhängig von Anzahl Knoten $N$ und Anzahl Kanten $E$\n",
    "- Dijkstra kommt insgesamt auf $O(|N|²+|E|)$ \n",
    "- ```find_lowest_cost_node``` hat Laufzeit von $O(|N|)$\n",
    "\n",
    "\n",
    "- Wenn nur auf $N$ bezogen ist Laufzeit $O(|N|²)$, da $E$ maximal so groß ist wie $|N|²$"
   ]
  },
  {
   "cell_type": "markdown",
   "metadata": {
    "slideshow": {
     "slide_type": "slide"
    }
   },
   "source": [
    "# Vergleich\n",
    "\n",
    "## Laufzeit kürzeste Wege in DAGs\n",
    "\n",
    "><div class=\"alert alert-block alert-info\">\n",
    "<b>Welche Laufzeitkomplexität hat das Verfahren?</b></div>"
   ]
  },
  {
   "cell_type": "code",
   "execution_count": 1,
   "metadata": {},
   "outputs": [],
   "source": [
    "def dag_shortest_path(graph, start_node, topo_sorted_nodes):\n",
    "    parents = {}\n",
    "    costs = {}\n",
    "\n",
    "    for node in graph: \n",
    "        costs[node] = float(\"inf\")  \n",
    "    costs[start_node] = 0  \n",
    "    \n",
    "    for node in topo_sorted_nodes: \n",
    "        for neighbor, edge_weight in graph[node].items():\n",
    "            if costs[node] + edge_weight < costs[neighbor]: \n",
    "                costs[neighbor] = costs[node] + edge_weight  \n",
    "                parents[neighbor] = node \n",
    "            \n",
    "    return costs, parents "
   ]
  },
  {
   "cell_type": "markdown",
   "metadata": {
    "slideshow": {
     "slide_type": "slide"
    }
   },
   "source": [
    "# Vergleich\n",
    "\n",
    "## Laufzeit kürzeste Wege in DAGs\n",
    "\n",
    "- Laufzeit abhängig von Anzahl Knoten $N$ und Anzahl Kanten $E$\n",
    "- Kürzeste Wege in DAGs insgesamt $O(|N|+|E|)$\n",
    "- Einsparung von $O(|N|)$ in jedem Schritt gegenüber Dijkstra (durch gegbene Reihenfolge) \n",
    "\n",
    "\n",
    "- Wenn nur auf $N$ bezogen ist Laufzeit $O(|N|²)$, da $E$ maximal so groß ist wie $|N|²$"
   ]
  },
  {
   "cell_type": "markdown",
   "metadata": {
    "slideshow": {
     "slide_type": "slide"
    }
   },
   "source": [
    "# Vielen Dank für Eure Aufmerksamkeit"
   ]
  }
 ],
 "metadata": {
  "celltoolbar": "Slideshow",
  "kernelspec": {
   "display_name": "Python 3",
   "language": "python",
   "name": "python3"
  },
  "language_info": {
   "codemirror_mode": {
    "name": "ipython",
    "version": 3
   },
   "file_extension": ".py",
   "mimetype": "text/x-python",
   "name": "python",
   "nbconvert_exporter": "python",
   "pygments_lexer": "ipython3",
   "version": "3.7.4"
  },
  "toc": {
   "base_numbering": 1,
   "nav_menu": {},
   "number_sections": false,
   "sideBar": true,
   "skip_h1_title": false,
   "title_cell": "Table of Contents",
   "title_sidebar": "Contents",
   "toc_cell": false,
   "toc_position": {},
   "toc_section_display": true,
   "toc_window_display": false
  },
  "varInspector": {
   "cols": {
    "lenName": 16,
    "lenType": 16,
    "lenVar": 40
   },
   "kernels_config": {
    "python": {
     "delete_cmd_postfix": "",
     "delete_cmd_prefix": "del ",
     "library": "var_list.py",
     "varRefreshCmd": "print(var_dic_list())"
    },
    "r": {
     "delete_cmd_postfix": ") ",
     "delete_cmd_prefix": "rm(",
     "library": "var_list.r",
     "varRefreshCmd": "cat(var_dic_list()) "
    }
   },
   "types_to_exclude": [
    "module",
    "function",
    "builtin_function_or_method",
    "instance",
    "_Feature"
   ],
   "window_display": false
  }
 },
 "nbformat": 4,
 "nbformat_minor": 2
}
