{
 "cells": [
  {
   "cell_type": "markdown",
   "metadata": {
    "slideshow": {
     "slide_type": "slide"
    }
   },
   "source": [
    "<img src=\"./img/logo_wiwi.png\" width=\"23%\" align=\"left\">\n",
    "<img src=\"./img/decision_analytics_logo.png\" width=\"17%\" align=\"right\">\n",
    "\n",
    "<br><br><br><br><br><br><br><br>\n",
    "\n",
    "\n",
    "## Algorithmen und Datenstrukturen\n",
    "Wintersemester 2022/23\n",
    "\n",
    "\n",
    "# Übung 6: Hash-Tabellen und Graphen\n",
    "\n",
    "\n",
    "<br><br><br>\n",
    "J-Prof. Dr. Michael Römer, Till Porrmann "
   ]
  },
  {
   "cell_type": "markdown",
   "metadata": {
    "slideshow": {
     "slide_type": "slide"
    }
   },
   "source": [
    "# Überblick\n",
    "\n",
    "0. Organisatorisches\n",
    "1. Wiederholung Vorlesung\n",
    "2. Hash-Tabellen\n",
    "3. Graphen\n",
    "4. Breitensuche"
   ]
  },
  {
   "cell_type": "markdown",
   "metadata": {
    "slideshow": {
     "slide_type": "slide"
    }
   },
   "source": [
    "# 0. Organisatorisches\n",
    "\n",
    "- Noch 2 Übungszettel (letzter etwas kürzere Bearbeitungszeit)\n",
    "- Klausur am 9.2.\n",
    "- Probeklausur wird demnächst hochgeladen \n",
    "    - Extra Veranstaltung oder asynchron?\n",
    "- Fragt mich alle Sachen die unklar sind\n",
    "    - Extra Veranstaltung oder asynchron?"
   ]
  },
  {
   "cell_type": "markdown",
   "metadata": {
    "slideshow": {
     "slide_type": "slide"
    }
   },
   "source": [
    "# 1. Wiederholung Vorlesung"
   ]
  },
  {
   "cell_type": "markdown",
   "metadata": {
    "slideshow": {
     "slide_type": "slide"
    }
   },
   "source": [
    "# Wiederholung Vorlesung\n",
    "## Hash-Tabellen\n",
    "\n",
    "### Allgemein\n",
    "\n",
    "- Datenstruktur, die Vorteile von Arrays und Linked Lists vereint\n",
    "- Idee: Array wird erstellt und \"clever gefüllt\"\n",
    "- Hashfunktion genutzt, um Speicherort im Array zu bestimmen\n",
    "\n",
    "\n",
    "<img src=\"./img/hash_bsp.jpg\" width=\"25%\" align=\"left\">"
   ]
  },
  {
   "cell_type": "markdown",
   "metadata": {
    "slideshow": {
     "slide_type": "slide"
    }
   },
   "source": [
    "# Wiederholung Vorlesung\n",
    "## Hash-Tabellen\n",
    "\n",
    "### Kollision\n",
    "\n",
    "- Manchmal Speicherort für neues Element schon belegt $\\rightarrow$ Kollision\n",
    "- Behebung durch Mehrfachspeicherung in zugehöriger Stelle im Array \n",
    "    - Mit Linked List\n",
    "    - Macht Hash-Tabelle langsamer\n",
    "    - Dadurch schlechte worst-case Laufzeiten\n",
    "    \n",
    "    \n",
    "<img src=\"./img/kollision_bsp.jpg\" width=\"65%\" align=\"left\">"
   ]
  },
  {
   "cell_type": "markdown",
   "metadata": {
    "slideshow": {
     "slide_type": "slide"
    }
   },
   "source": [
    "# Wiederholung Vorlesung\n",
    "## Graphen\n",
    "\n",
    "### Allgemein\n",
    "\n",
    "- Konstrukt aus Knoten und Kanten\n",
    "- Visualisierbar\n",
    "- Kann zur Darstellung von Elementen und deren Beziehungen genutzt werden\n",
    "- Graphen können gerichtet und/ oder gewichtet sein\n",
    "\n",
    "\n",
    "<img src=\"./img/graph_einfach.jpg\" width=\"45%\" align=\"left\">"
   ]
  },
  {
   "cell_type": "markdown",
   "metadata": {
    "slideshow": {
     "slide_type": "slide"
    }
   },
   "source": [
    "# Wiederholung Vorlesung\n",
    "## Graphen\n",
    "\n",
    "### Implementierung mit Hash-Tabellen\n",
    "\n",
    "- Graphen können mit Hash-Tabellen implementiert werden\n",
    "- Knoten sind Schlüssel\n",
    "- Nachbarn der Knoten sind Werte (dadurch Kanten implizit dargestellt)"
   ]
  },
  {
   "cell_type": "code",
   "execution_count": 2,
   "metadata": {},
   "outputs": [],
   "source": [
    "graph = {}\n",
    "\n",
    "graph['Alex'] = 'Rick'\n",
    "graph['Rick'] = 'Adit'\n",
    "graph['Tom'] = ['Rick', 'Adit']\n",
    "graph['Adit'] = []"
   ]
  },
  {
   "cell_type": "markdown",
   "metadata": {
    "slideshow": {
     "slide_type": "slide"
    }
   },
   "source": [
    "# Wiederholung Vorlesung\n",
    "## Graphen\n",
    "\n",
    "### Breitensuche\n",
    "\n",
    "- Suche nach kürzesten/besten Pfaden oft wichtig in Graphen\n",
    "- Einfache Möglichkeit dazu: Breitensuche\n",
    "- **Zentrale Frage:** \n",
    "> Wie viele **Schritte** brauchen wir mindestens, um von einem Knoten (Start) aus einen bestimmten anderen Knoten (Ziel) zu erreichen.\n",
    "- Dafür suchen wir vom Start aus alle benachbarten Knoten\n",
    "- Anschließend suchen wir von allen gefundenen Nachbarn aus deren Nachbarn\n",
    "- Wenn wir den Zielknoten finden, ist der Algorithmus abgeschlossen"
   ]
  },
  {
   "cell_type": "markdown",
   "metadata": {
    "slideshow": {
     "slide_type": "slide"
    }
   },
   "source": [
    "# 2. Hash-Tabellen\n",
    "\n",
    "- Grundlagen\n",
    "- Beispiele\n",
    "- Speicherung\n",
    "- Hash-Funktionen\n",
    "- Kollision\n",
    "- ```dict```\n",
    "- Anwendungsbeispiele"
   ]
  },
  {
   "cell_type": "markdown",
   "metadata": {
    "slideshow": {
     "slide_type": "slide"
    }
   },
   "source": [
    "# Hash-Tabellen\n",
    "\n",
    "## Grundlagen\n",
    "\n",
    "- Komplexere Datenstruktur\n",
    "- speichert Schlüssel-Wert-Paare\n",
    "    - Schlüssel: \"Name\" des Objekts, zu dem ein Wert hinterlegt ist. (z.B. Personal-Nr.)\n",
    "    - Wert: \"Das, was man abspeichern will\", zugehöriger Inhalt (z.B. Gehalt)\n",
    "\n",
    "- Vorteile:\n",
    "    - sehr performant\n",
    "    - finden von Wert zu gegebenem Schlüssel in O(1)\n",
    "    \n",
    "- Nachteile:\n",
    "    - keine Reihenfolge\n",
    "    - ggf Reallokationen nötig\n",
    "    - Schlechte worst case Laufzeit"
   ]
  },
  {
   "cell_type": "markdown",
   "metadata": {
    "slideshow": {
     "slide_type": "slide"
    }
   },
   "source": [
    "# Hash-Tabellen\n",
    "## Beispiele \n",
    "\n",
    "> <div class=\"alert alert-block alert-info\">\n",
    "<b>Was sind in den Beispielen die Schlüssel und was die Werte?</b>\n",
    "</div>\n",
    "\n",
    "| Beispiel | Schlüssel | Wert|\n",
    "|:----:|:----:|:----:|\n",
    "|  Telefonbuch  |     |     |\n",
    "|  Bankkonto  |     |     |\n",
    "|  Wählerverzeichnis  |     |    |\n",
    "|  Studierenden-Verzeichnis Uni Bielefeld  |     |     |"
   ]
  },
  {
   "cell_type": "markdown",
   "metadata": {
    "slideshow": {
     "slide_type": "slide"
    }
   },
   "source": [
    "# Hash-Tabellen\n",
    "## Speicherung \n",
    "\n",
    "- Aufbauend auf der Datenstruktur Array\n",
    "    - Wert: wird im Array gespeichert\n",
    "    - Schlüssel: legt Position fest, an der im Array gespeichert wird\n",
    "- Aus Schlüssel wird mit Hashfunktion Zahlenwert *x* ermittelt\n",
    "- Wert wird im Array an Index *x* gespeichert\n",
    "\n",
    "\n",
    "- Wenn Wert wieder abgerufen werden soll: Hashfunktion(Schlüssel) berechnen und an entsprechender Stelle im Array Wert nachgucken"
   ]
  },
  {
   "cell_type": "markdown",
   "metadata": {
    "slideshow": {
     "slide_type": "slide"
    }
   },
   "source": [
    "# Hash-Tabellen\n",
    "## Hash-Funktionen \n",
    "\n",
    "- Ziel der Hashfunktion: Möglichst eindeutig zuordnen können\n",
    "- **Hashfunktion gibt einen Zahlenwert für eine beliebige Eingabe zurück**\n",
    "- Dieser Zahlenwert wird für Position innerhalb eines Arrays genutzt\n",
    "\n",
    "<br>\n",
    "\n",
    "- Muss konsistent sein $\\rightarrow$ gleicher Input muss zu gleichem Output führen\n",
    "- Sollte möglichst eindeutig sein $\\rightarrow$ ungleicher Input führt (meist) zu ungleichem Output\n",
    "- Zum \"mappen\" von Schlüsseln auf Speicherorte\n",
    "- Auch andere Anwendungsbereiche (für uns aber nicht relevant)"
   ]
  },
  {
   "cell_type": "markdown",
   "metadata": {
    "slideshow": {
     "slide_type": "slide"
    }
   },
   "source": [
    "# Hash-Tabellen\n",
    "## Hash-Funktionen \n",
    "\n",
    "><div class=\"alert alert-block alert-info\">\n",
    "<b>Wie könnte eine Hashfunktion für Text aussehen?</b></div>"
   ]
  },
  {
   "cell_type": "code",
   "execution_count": null,
   "metadata": {},
   "outputs": [],
   "source": [
    "def hash_fkt(text):\n",
    "    \n",
    "    return"
   ]
  },
  {
   "cell_type": "markdown",
   "metadata": {
    "slideshow": {
     "slide_type": "slide"
    }
   },
   "source": [
    "# Hash-Tabellen\n",
    "## Kollisionen\n",
    "\n",
    "- Hash-Funktion nicht immer eindeutig\n",
    "- Wenn mehrere Schlüssel auf gleiche Stelle zeigen ist unklar, zu welchem Schlüssel der Wert gehören soll\n",
    "\n",
    "\n",
    "- Problem kann **behoben** werden: mehrere Werte in einer Stelle des Arrays\n",
    "    - Umgesetzt mit LinkedList an der Stelle des Arrays\n",
    "    - \"Kostet\" viel: Performance der Hash-Tabelle dadurch schlechter\n",
    "    \n",
    "- Problem kann **vermieden** werden: gute Voraussetzungen schaffen\n",
    "    - Gute Hash-Funktion wählen\n",
    "    - Aufpassen, dass Auslastung nicht zu hoch ist"
   ]
  },
  {
   "cell_type": "markdown",
   "metadata": {
    "slideshow": {
     "slide_type": "slide"
    }
   },
   "source": [
    "# Hash-Tabellen\n",
    "## Kollisionen - Auslastung\n",
    "\n",
    "- Bei hoher Auslastung der Hash-Tabelle sollte *Größenanpassung* vorgenommen werden\n",
    "- Faustregeln für Größenanpassung:\n",
    "    - Bei über 70% Auslastung\n",
    "    - Verdoppelung der Größe\n",
    "    \n",
    "> <div class=\"alert alert-block alert-info\">\n",
    "<b>Warum wird das Array nicht von Anfang an sehr groß gewählt?</b>\n",
    "</div>"
   ]
  },
  {
   "cell_type": "markdown",
   "metadata": {
    "slideshow": {
     "slide_type": "slide"
    }
   },
   "source": [
    "# Hash-Tabellen\n",
    "## ```dict```\n",
    "\n",
    "- In Python werden Hash-Tabellen mit ```dict``` implementiert\n",
    "- Erstellen mit ```dict()``` oder ```{}```\n",
    "- Bei Erstellung können auch Daten hinzugefügt werden: ```{schlüssel:wert}```"
   ]
  },
  {
   "cell_type": "code",
   "execution_count": 1,
   "metadata": {},
   "outputs": [],
   "source": [
    "hash_table1 = dict()\n",
    "hash_table2 = {}\n",
    "hash_table3 = {'Apfel':0.49, 'Schoki':1.39}"
   ]
  },
  {
   "cell_type": "markdown",
   "metadata": {
    "slideshow": {
     "slide_type": "slide"
    }
   },
   "source": [
    "# Hash-Tabellen\n",
    "## ```dict```\n",
    "\n",
    "- Hinzufügen und Abrufen ähnliche Syntax wie Arrays\n",
    "    - Statt Zahlen-Index wird nun Schlüssel in ```[]``` geschrieben\n",
    "- Python speichert zusätzlich alle Schlüssel von dicts, dadurch ausgeben des gesamten dicts möglich"
   ]
  },
  {
   "cell_type": "code",
   "execution_count": 2,
   "metadata": {},
   "outputs": [
    {
     "name": "stdout",
     "output_type": "stream",
     "text": [
      "Preis von Apfel: 0.49\n",
      "Gesamtes dict: {'Apfel': 0.49, 'Schoki': 1.59, 'Brot': 1.49}\n"
     ]
    }
   ],
   "source": [
    "hash_table3['Brot'] = 1.49\n",
    "hash_table3['Schoki'] = 1.69\n",
    "\n",
    "print('Preis von Apfel:', hash_table3['Apfel'] )\n",
    "\n",
    "print('Gesamtes dict:', hash_table3 )"
   ]
  },
  {
   "cell_type": "markdown",
   "metadata": {
    "slideshow": {
     "slide_type": "slide"
    }
   },
   "source": [
    "# Hash-Tabellen\n",
    "## Anwendungsbeispiele\n",
    "\n",
    "**Hash-Tabellen haben vor allem zwei Anwendungsbereiche:**\n",
    "\n",
    "- Nachschlagen (\"Suchen\"):\n",
    "    - Telefonbuch\n",
    "    - Caching\n",
    "    \n",
    "- Überprüfen auf Dopplungen:\n",
    "    - Wahllokal\n",
    "    - Vergabe von Nummernschildern"
   ]
  },
  {
   "cell_type": "markdown",
   "metadata": {
    "slideshow": {
     "slide_type": "slide"
    }
   },
   "source": [
    "# 3. Graphen\n",
    "\n",
    "- Grundlagen\n",
    "- Formale Definition\n",
    "- Beispiel: Bahnen in Bielefeld\n",
    "- Implementierung mit Hash-Tabellen\n",
    "- Implementierung mit networkX"
   ]
  },
  {
   "cell_type": "markdown",
   "metadata": {
    "slideshow": {
     "slide_type": "slide"
    }
   },
   "source": [
    "# Graphen\n",
    "## Grundlagen\n",
    "\n",
    "- Ein Graph besteht aus Knoten (Elementen) und Kanten (Verbindungen)\n",
    "- Graphen können verschiedene Typen von Beziehungen abbilden:\n",
    "    - Entfernungen\n",
    "    - Zeitliche Abstände\n",
    "    - soziale Konstrukte\n",
    "    - Kausalitäten\n",
    "- Graphen können gerichtet oder ungerichtet sein\n",
    "- Es ist möglich (und oft sinnvoll), Kanten Gewichte zuzuordnen"
   ]
  },
  {
   "cell_type": "markdown",
   "metadata": {
    "slideshow": {
     "slide_type": "slide"
    }
   },
   "source": [
    "# Graphen\n",
    "## Grundlagen\n",
    "\n",
    "- Graphen werden oft visuell dargestellt:\n",
    "\n",
    "<img src=\"./img/graph_bsp.jpg\" width=\"55%\" align=\"left\">"
   ]
  },
  {
   "cell_type": "markdown",
   "metadata": {
    "slideshow": {
     "slide_type": "slide"
    }
   },
   "source": [
    "# Graphen\n",
    "\n",
    "## Formale Definition:\n",
    "*Vgl. https://cg.informatik.uni-freiburg.de/course_notes/info2_15_graph.pdf*\n",
    "\n",
    "<br>\n",
    "\n",
    "- Ein Graph **G** ist ein 2-Tupel der Mengen **V** und **E**\n",
    "> $G = (V, E)$\n",
    "\n",
    "- $V = \\{v_0, ..., v_{n-1}\\}$ Menge von n Knoten (\"Vertices\")\n",
    "- $E = \\{e_0, ..., e_{m-1}\\}$ Menge von m Kanten (\"Edges\")\n",
    "- eine Kante $e_x$ ist bestimmt über die Knoten $v_i$ und $v_j$, die sie miteinander verbindet\n",
    "- zwei Knoten $v_i$ und $v_j$ heißen benachbart, wenn $(v_i, v_j) \\in E$ oder $(v_j, v_i) \\in E$"
   ]
  },
  {
   "cell_type": "markdown",
   "metadata": {
    "slideshow": {
     "slide_type": "slide"
    }
   },
   "source": [
    "# Graphen\n",
    "## Beispiel\n",
    "\n",
    "### Bahnstationen in Bielefeld\n",
    "\n",
    "><div class=\"alert alert-block alert-info\">\n",
    "<b>Erstellt einen Graphen, der die folgenden Orte in Bielefeld beinhaltet (als Knoten). Fügt bestehende Bahn-Verbindungen hinzu (als Kanten).</b></div>\n",
    "\n",
    "Orte:\n",
    "- Hbf\n",
    "- Uni\n",
    "- Krankenhaus Mitte\n",
    "- Landgericht"
   ]
  },
  {
   "cell_type": "markdown",
   "metadata": {
    "slideshow": {
     "slide_type": "slide"
    }
   },
   "source": [
    "# Graphen\n",
    "## Implementierung mit Hash-Tabellen\n",
    "\n",
    "- Eine Möglichkeit zum Programmieren von Graphen sind Hash-Tabellen\n",
    "- Knoten und Kanten werden durch Schlüssel-Wert-Paare dargestellt:\n",
    "    - **Schlüssel:** Objekt/ Knoten\n",
    "    - **Wert:** Liste mit Nachbarknoten/ Nachfolgern\n",
    "    \n",
    "><div class=\"alert alert-block alert-info\">\n",
    "<b>Stellt das Bahnstation-Beispiel mit Hash-Tabellen dar.</b></div>"
   ]
  },
  {
   "cell_type": "code",
   "execution_count": null,
   "metadata": {},
   "outputs": [],
   "source": [
    "verbindungen = {}\n",
    "\n",
    "verbindungen[...] ="
   ]
  },
  {
   "cell_type": "markdown",
   "metadata": {
    "slideshow": {
     "slide_type": "slide"
    }
   },
   "source": [
    "# Graphen\n",
    "## Implementierung mit networkX\n",
    "\n",
    "- In der Praxis eher fertige Pakete für Implementierung von Netzwerken genutzt\n",
    "- In Python zum Beispiel [NetworkX](https://networkx.org/documentation/stable/tutorial.html)\n",
    "- Knoten und Kanten dabei explizit dargestellt\n",
    "- Ermöglicht einige fortgeschrittene Anwendungsmöglichkeiten"
   ]
  },
  {
   "cell_type": "code",
   "execution_count": 12,
   "metadata": {},
   "outputs": [
    {
     "data": {
      "image/png": "[encoded data removed]",
      "text/plain": [
       "<Figure size 432x288 with 1 Axes>"
      ]
     },
     "metadata": {},
     "output_type": "display_data"
    }
   ],
   "source": [
    "import networkx as nx\n",
    "import matplotlib.pyplot as plt\n",
    "\n",
    "graphX = nx.DiGraph()\n",
    "\n",
    "graphX.add_node(\"Knoten 1\")\n",
    "graphX.add_node(\"Knoten 2\")\n",
    "\n",
    "graphX.add_edge(\"Knoten 1\", \"Knoten 2\")\n",
    "\n",
    "graphX.nodes\n",
    "\n",
    "nx.draw_networkx(graphX,node_size=750, node_color=\"lightblue\")"
   ]
  },
  {
   "cell_type": "markdown",
   "metadata": {
    "slideshow": {
     "slide_type": "slide"
    }
   },
   "source": [
    "# 4. Breitensuche\n",
    "\n",
    "- Konzept\n",
    "- Algorithmus\n",
    "- Beispiel\n",
    "- Implementierung"
   ]
  },
  {
   "cell_type": "markdown",
   "metadata": {
    "slideshow": {
     "slide_type": "slide"
    }
   },
   "source": [
    "# Breitensuche\n",
    "## Konzept\n",
    "\n",
    "- Gesucht wird Pfad von Start-Knoten zu Ziel-Knoten in einem Graphen\n",
    "- Methode zum Finden eines \"kürzesten\" Wegs\n",
    "- Pfad sollte möglichst wenige andere Knoten beinhalten\n",
    "- Methode ignoriert Kantengewichte\n",
    "\n",
    "<br>\n",
    "<br>\n",
    "\n",
    "**Vorgehen:**\n",
    "- Wir betrachten alle Nachbaren des Startknotens\n",
    "- Wenn Zielknoten nicht dabei: Betrachtung aller Nachbarn der Nachbaren\n",
    "- Wenn Zielknoten immer noch nicht dabei: Betrachtung aller Nachbarn der Nachbaren der Nachbaren\n",
    "- Forführen, bis Ziel gefunden oder alle Knoten betrachtet"
   ]
  },
  {
   "cell_type": "markdown",
   "metadata": {
    "slideshow": {
     "slide_type": "slide"
    }
   },
   "source": [
    "# Breitensuche\n",
    "## Algorithmus (vereinfacht)\n",
    "\n",
    "0. Wir erstellen eine Liste mit zu bearbeitenden Personen (darin zu Beginn nur Startknoten)\n",
    "    - Diese Liste arbeiten wir von oben nach unten ab\n",
    "1. Ist oberster Eintrag der Liste Zielknoten?\n",
    "    - Wenn ja: Algorithmus abgeschlossen\n",
    "    - Wenn nein: weiter mit 2.\n",
    "2. Füge alle Nachbarn des Eintrags ans Ende der Liste hinzu\n",
    "3. Lösche Eintrag aus Liste\n",
    "4. Ist Liste leer?\n",
    "    - Wenn ja: Algorithmus abgeschlossen\n",
    "    - Wenn nein: springe zu 1."
   ]
  },
  {
   "cell_type": "markdown",
   "metadata": {
    "slideshow": {
     "slide_type": "slide"
    }
   },
   "source": [
    "# Breitensuche\n",
    "## Beispiel\n",
    "\n",
    "><div class=\"alert alert-block alert-info\">\n",
    "<b>Führe für das Bahnstation-Beispiel die Breitensuche durch.</b></div>"
   ]
  },
  {
   "cell_type": "markdown",
   "metadata": {
    "slideshow": {
     "slide_type": "fragment"
    }
   },
   "source": [
    "...welche Informationen fehlen hier noch in der Aufgabenstellung?"
   ]
  },
  {
   "cell_type": "markdown",
   "metadata": {
    "slideshow": {
     "slide_type": "slide"
    }
   },
   "source": [
    "# Breitensuche\n",
    "\n",
    "## Algorithmus\n",
    "\n",
    "- Mehrfachbetrachtungen von Knoten durch oben stehenden Algorithmus nicht ausgeschlossen\n",
    "- Im schlimmsten Fall: Zyklen --> Endlosschleife\n",
    "- Vermeidung durch Speichern der bereits bearbeiteten Knoten\n",
    "    - Dafür eignet sich ein ```set```\n",
    "- Vorm Hinzufügen von neuem Knoten überprüfen, ob dieser schon im set enthalten"
   ]
  },
  {
   "cell_type": "markdown",
   "metadata": {
    "slideshow": {
     "slide_type": "slide"
    }
   },
   "source": [
    "# Breitensuche\n",
    "## Implementierung mit Hash-Tabellen"
   ]
  },
  {
   "cell_type": "code",
   "execution_count": null,
   "metadata": {},
   "outputs": [],
   "source": [
    "def breitensuche(graph, start_knoten):\n",
    "    \n",
    "    search_queue = deque( graph[start_knoten] ) # füge die Nachfolger der Startknoten ein in die Schlange\n",
    "    searched = set( [start_knoten] )  # füge die Startknoten ein in die bereits durchsuchen Knoten\n",
    "    \n",
    "    while search_queue:  # solange noch knotenen in der Schlange sind\n",
    "        knoten = search_queue.popleft() # nimm den ersten Knoten aus der Schlange\n",
    "        \n",
    "        if not knoten in searched: # falls der Knoten noch nicht betrachtet wurde\n",
    "            if knoten_is_goal(knoten): # falls der Knoten das Ziel ist, ist die Suche zu Ende\n",
    "                print(\"Ziel\",knoten,\"gefunden!\")\n",
    "                return True  \n",
    "            else:\n",
    "                search_queue += graph[knoten] # füge die Nachfolger des Knoten in Schlange ein\n",
    "                searched.add(knoten) # markiere die Knoten als bereits bearbeitet\n",
    "    return False # es existiert kein Pfad zum Zielknoten"
   ]
  },
  {
   "cell_type": "markdown",
   "metadata": {
    "slideshow": {
     "slide_type": "slide"
    }
   },
   "source": [
    "# Vielen Dank für Eure Aufmerksamkeit"
   ]
  }
 ],
 "metadata": {
  "celltoolbar": "Slideshow",
  "kernelspec": {
   "display_name": "Python 3",
   "language": "python",
   "name": "python3"
  },
  "language_info": {
   "codemirror_mode": {
    "name": "ipython",
    "version": 3
   },
   "file_extension": ".py",
   "mimetype": "text/x-python",
   "name": "python",
   "nbconvert_exporter": "python",
   "pygments_lexer": "ipython3",
   "version": "3.7.4"
  },
  "toc": {
   "base_numbering": 1,
   "nav_menu": {},
   "number_sections": false,
   "sideBar": true,
   "skip_h1_title": false,
   "title_cell": "Table of Contents",
   "title_sidebar": "Contents",
   "toc_cell": false,
   "toc_position": {},
   "toc_section_display": true,
   "toc_window_display": false
  },
  "varInspector": {
   "cols": {
    "lenName": 16,
    "lenType": 16,
    "lenVar": 40
   },
   "kernels_config": {
    "python": {
     "delete_cmd_postfix": "",
     "delete_cmd_prefix": "del ",
     "library": "var_list.py",
     "varRefreshCmd": "print(var_dic_list())"
    },
    "r": {
     "delete_cmd_postfix": ") ",
     "delete_cmd_prefix": "rm(",
     "library": "var_list.r",
     "varRefreshCmd": "cat(var_dic_list()) "
    }
   },
   "types_to_exclude": [
    "module",
    "function",
    "builtin_function_or_method",
    "instance",
    "_Feature"
   ],
   "window_display": false
  }
 },
 "nbformat": 4,
 "nbformat_minor": 2
}
